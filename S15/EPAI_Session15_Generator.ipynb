{
 "cells": [
  {
   "cell_type": "markdown",
   "metadata": {},
   "source": [
    "## Session 15 Assignment\n",
    "\n",
    "For this project you are given a file that contains some parking ticket violations for NYC.\n",
    "\n",
    "(It's just a tiny extract!)\n",
    "\n",
    "If you're wondering where I get these data sets, Kaggle is an excellent source of data sets in a whole variety of topics: https://www.kaggle.com/\n",
    "\n",
    "You have to sign up, but it's free.\n",
    "\n",
    "If you want the full data set, it's available here: https://www.kaggle.com/new-york-city/nyc-parking-tickets/version/2#\n",
    "\n",
    "For this sample data set, the file is named:\n",
    "\n",
    "nyc_parking_tickets_extract.csv\n",
    "Your goals are as follows:\n",
    "\n",
    "**Goal 1**\n",
    "Create a lazy iterator that will return a named tuple of the data in each row. The data types should be appropriate - i.e. if the column is a date, you should be storing dates in the named tuple, if the field is an integer, then it should be stored as an integer, etc.\n",
    "\n",
    "**Goal 2**\n",
    "Calculate the number of violations by car make.\n",
    "\n",
    "Note:\n",
    "Try to use lazy evaluation as much as possible - it may not always be possible though! That's OK, as long as it's kept to a minimum."
   ]
  },
  {
   "cell_type": "markdown",
   "metadata": {},
   "source": [
    "### Goal 1"
   ]
  },
  {
   "cell_type": "markdown",
   "metadata": {},
   "source": [
    "Load the dataset"
   ]
  },
  {
   "cell_type": "code",
   "execution_count": 2,
   "metadata": {},
   "outputs": [],
   "source": [
    "import os\n",
    "os.chdir(r'C:\\Users\\bhaga\\Documents\\EPAI\\S15')\n",
    "\n",
    "file_name = 'nyc_parking_tickets_extract-1.csv'"
   ]
  },
  {
   "cell_type": "code",
   "execution_count": 3,
   "metadata": {},
   "outputs": [
    {
     "name": "stdout",
     "output_type": "stream",
     "text": [
      "Summons Number,Plate ID,Registration State,Plate Type,Issue Date,Violation Code,Vehicle Body Type,Vehicle Make,Violation Description\n",
      "\n",
      "4006478550,VAD7274,VA,PAS,10/5/2016,5,4D,BMW,BUS LANE VIOLATION\n",
      "\n",
      "4006462396,22834JK,NY,COM,9/30/2016,5,VAN,CHEVR,BUS LANE VIOLATION\n",
      "\n",
      "4007117810,21791MG,NY,COM,4/10/2017,5,VAN,DODGE,BUS LANE VIOLATION\n",
      "\n",
      "4006265037,FZX9232,NY,PAS,8/23/2016,5,SUBN,FORD,BUS LANE VIOLATION\n",
      "\n"
     ]
    }
   ],
   "source": [
    "with open(file_name) as f:\n",
    "    for _ in range(5):\n",
    "        print(next(f))"
   ]
  },
  {
   "cell_type": "code",
   "execution_count": 6,
   "metadata": {},
   "outputs": [],
   "source": [
    "with open(file_name) as f:\n",
    "    columns = next(f).strip('\\n').split(',') # reads the first row as header in the dataset\n",
    "    data1 = next(f).strip('\\n').split(',') # values start from second row"
   ]
  },
  {
   "cell_type": "code",
   "execution_count": 7,
   "metadata": {},
   "outputs": [
    {
     "data": {
      "text/plain": [
       "[('Summons Number', '4006478550'),\n",
       " ('Plate ID', 'VAD7274'),\n",
       " ('Registration State', 'VA'),\n",
       " ('Plate Type', 'PAS'),\n",
       " ('Issue Date', '10/5/2016'),\n",
       " ('Violation Code', '5'),\n",
       " ('Vehicle Body Type', '4D'),\n",
       " ('Vehicle Make', 'BMW'),\n",
       " ('Violation Description', 'BUS LANE VIOLATION')]"
      ]
     },
     "execution_count": 7,
     "metadata": {},
     "output_type": "execute_result"
    }
   ],
   "source": [
    "list(zip(columns, data1))"
   ]
  },
  {
   "cell_type": "markdown",
   "metadata": {},
   "source": [
    "**Following datatype mapping to be done for corresponding columns**\n",
    "\n",
    "Summons Number: integers  \n",
    "Plate ID: string  \n",
    "Registration State: string  \n",
    "Plate Type: string  \n",
    "Issue Date: dates  \n",
    "Violation Code: integers  \n",
    "Vehicle Body Type: string  \n",
    "Vehicle Make: string  \n",
    "Violation Description: string  "
   ]
  },
  {
   "cell_type": "markdown",
   "metadata": {},
   "source": [
    "### Column parser to set appropriate format"
   ]
  },
  {
   "cell_type": "code",
   "execution_count": 12,
   "metadata": {},
   "outputs": [],
   "source": [
    "def convert_int(value):\n",
    "    try:\n",
    "        return int(value)\n",
    "    except:\n",
    "        raise ValueError(\"Invalid format for integer conversion\")"
   ]
  },
  {
   "cell_type": "code",
   "execution_count": 13,
   "metadata": {},
   "outputs": [],
   "source": [
    "from datetime import datetime\n",
    "\n",
    "def convert_date(value):\n",
    "    date_format='%m/%d/%Y'\n",
    "    try:\n",
    "        return datetime.strptime(value, date_format).date()\n",
    "    except:\n",
    "        raise ValueError(\"Invalid format for date conversion\")"
   ]
  },
  {
   "cell_type": "code",
   "execution_count": 14,
   "metadata": {},
   "outputs": [],
   "source": [
    "def convert_string(value):\n",
    "    try:\n",
    "        if str(value).strip():\n",
    "            return str(value).strip()\n",
    "        else:\n",
    "            return None\n",
    "    except:\n",
    "        raise ValueError(\"Invalid format for string conversion\")"
   ]
  },
  {
   "cell_type": "code",
   "execution_count": 15,
   "metadata": {},
   "outputs": [],
   "source": [
    "column_parsers = (convert_int,  \n",
    "                  convert_string, \n",
    "                  convert_string,  \n",
    "                  convert_string, \n",
    "                  convert_date,  \n",
    "                  convert_int,  \n",
    "                  convert_string, \n",
    "                  convert_string, \n",
    "                  convert_string\n",
    "                 )"
   ]
  },
  {
   "cell_type": "code",
   "execution_count": 40,
   "metadata": {},
   "outputs": [],
   "source": [
    "def parse_row(row):\n",
    "    values = row.strip('\\n').split(',')\n",
    "    data = tuple(func(v) for func, v in zip(column_parsers, values))\n",
    "    return data"
   ]
  },
  {
   "cell_type": "code",
   "execution_count": 17,
   "metadata": {},
   "outputs": [],
   "source": [
    "def read_file():\n",
    "    with open(file_name) as f:\n",
    "        next(f) # skip header\n",
    "        yield from f"
   ]
  },
  {
   "cell_type": "code",
   "execution_count": 41,
   "metadata": {},
   "outputs": [
    {
     "name": "stdout",
     "output_type": "stream",
     "text": [
      "[4006478550, 'VAD7274', 'VA', 'PAS', datetime.date(2016, 10, 5), 5, '4D', 'BMW', 'BUS LANE VIOLATION']\n",
      "[4006462396, '22834JK', 'NY', 'COM', datetime.date(2016, 9, 30), 5, 'VAN', 'CHEVR', 'BUS LANE VIOLATION']\n",
      "[4007117810, '21791MG', 'NY', 'COM', datetime.date(2017, 4, 10), 5, 'VAN', 'DODGE', 'BUS LANE VIOLATION']\n",
      "[4006265037, 'FZX9232', 'NY', 'PAS', datetime.date(2016, 8, 23), 5, 'SUBN', 'FORD', 'BUS LANE VIOLATION']\n",
      "[4006535600, 'N203399C', 'NY', 'OMT', datetime.date(2016, 10, 19), 5, 'SUBN', 'FORD', 'BUS LANE VIOLATION']\n"
     ]
    }
   ],
   "source": [
    "rows = read_file()\n",
    "for _ in range(5):\n",
    "    row = next(rows)\n",
    "    parsed_data = parse_row(row)\n",
    "    print(list(parsed_data))"
   ]
  },
  {
   "cell_type": "markdown",
   "metadata": {},
   "source": [
    "**Generator to print named tuples of columns and values in corresponding type**"
   ]
  },
  {
   "cell_type": "code",
   "execution_count": 32,
   "metadata": {},
   "outputs": [
    {
     "data": {
      "text/plain": [
       "['Summons Number',\n",
       " 'Plate ID',\n",
       " 'Registration State',\n",
       " 'Plate Type',\n",
       " 'Issue Date',\n",
       " 'Violation Code',\n",
       " 'Vehicle Body Type',\n",
       " 'Vehicle Make',\n",
       " 'Violation Description']"
      ]
     },
     "execution_count": 32,
     "metadata": {},
     "output_type": "execute_result"
    }
   ],
   "source": [
    "columns"
   ]
  },
  {
   "cell_type": "code",
   "execution_count": 36,
   "metadata": {},
   "outputs": [],
   "source": [
    "from collections import namedtuple\n",
    "\n",
    "Colval = namedtuple('Colval', ['Summons_Number','Plate_ID','Registration_State','Plate_Type','Issue_Date','Violation_Code', 'Vehicle_Body_Type','Vehicle_Make','Violation_Description'])"
   ]
  },
  {
   "cell_type": "code",
   "execution_count": 42,
   "metadata": {},
   "outputs": [],
   "source": [
    "def parse_rows_gen():\n",
    "    for row in read_file():\n",
    "        yield Colval(*parse_row(row))"
   ]
  },
  {
   "cell_type": "code",
   "execution_count": 62,
   "metadata": {},
   "outputs": [],
   "source": [
    "# rows = [list() for _ in range(9)]\n",
    "\n",
    "# rows"
   ]
  },
  {
   "cell_type": "code",
   "execution_count": 58,
   "metadata": {},
   "outputs": [],
   "source": [
    "rows = []"
   ]
  },
  {
   "cell_type": "code",
   "execution_count": 59,
   "metadata": {},
   "outputs": [],
   "source": [
    "index = 0\n",
    "for r in parse_rows_gen():\n",
    "#     index = index % 9\n",
    "    rows.append(r)\n",
    "    index += 1"
   ]
  },
  {
   "cell_type": "code",
   "execution_count": 60,
   "metadata": {},
   "outputs": [
    {
     "data": {
      "text/plain": [
       "[Colval(Summons_Number=4006478550, Plate_ID='VAD7274', Registration_State='VA', Plate_Type='PAS', Issue_Date=datetime.date(2016, 10, 5), Violation_Code=5, Vehicle_Body_Type='4D', Vehicle_Make='BMW', Violation_Description='BUS LANE VIOLATION'),\n",
       " Colval(Summons_Number=4006462396, Plate_ID='22834JK', Registration_State='NY', Plate_Type='COM', Issue_Date=datetime.date(2016, 9, 30), Violation_Code=5, Vehicle_Body_Type='VAN', Vehicle_Make='CHEVR', Violation_Description='BUS LANE VIOLATION'),\n",
       " Colval(Summons_Number=4007117810, Plate_ID='21791MG', Registration_State='NY', Plate_Type='COM', Issue_Date=datetime.date(2017, 4, 10), Violation_Code=5, Vehicle_Body_Type='VAN', Vehicle_Make='DODGE', Violation_Description='BUS LANE VIOLATION'),\n",
       " Colval(Summons_Number=4006265037, Plate_ID='FZX9232', Registration_State='NY', Plate_Type='PAS', Issue_Date=datetime.date(2016, 8, 23), Violation_Code=5, Vehicle_Body_Type='SUBN', Vehicle_Make='FORD', Violation_Description='BUS LANE VIOLATION'),\n",
       " Colval(Summons_Number=4006535600, Plate_ID='N203399C', Registration_State='NY', Plate_Type='OMT', Issue_Date=datetime.date(2016, 10, 19), Violation_Code=5, Vehicle_Body_Type='SUBN', Vehicle_Make='FORD', Violation_Description='BUS LANE VIOLATION'),\n",
       " Colval(Summons_Number=4007156700, Plate_ID='92163MG', Registration_State='NY', Plate_Type='COM', Issue_Date=datetime.date(2017, 4, 13), Violation_Code=5, Vehicle_Body_Type='VAN', Vehicle_Make='FRUEH', Violation_Description='BUS LANE VIOLATION'),\n",
       " Colval(Summons_Number=4006687989, Plate_ID='MIQ600', Registration_State='SC', Plate_Type='PAS', Issue_Date=datetime.date(2016, 11, 21), Violation_Code=5, Vehicle_Body_Type='VN', Vehicle_Make='HONDA', Violation_Description='BUS LANE VIOLATION'),\n",
       " Colval(Summons_Number=4006943052, Plate_ID='2AE3984', Registration_State='MD', Plate_Type='PAS', Issue_Date=datetime.date(2017, 2, 1), Violation_Code=5, Vehicle_Body_Type='SW', Vehicle_Make='LINCO', Violation_Description='BUS LANE VIOLATION'),\n",
       " Colval(Summons_Number=4007306795, Plate_ID='HLG4926', Registration_State='NY', Plate_Type='PAS', Issue_Date=datetime.date(2017, 5, 30), Violation_Code=5, Vehicle_Body_Type='SUBN', Vehicle_Make='TOYOT', Violation_Description='BUS LANE VIOLATION'),\n",
       " Colval(Summons_Number=4007124590, Plate_ID='T715907C', Registration_State='NY', Plate_Type='OMT', Issue_Date=datetime.date(2017, 4, 3), Violation_Code=5, Vehicle_Body_Type='SUBN', Vehicle_Make='TOYOT', Violation_Description='BUS LANE VIOLATION')]"
      ]
     },
     "execution_count": 60,
     "metadata": {},
     "output_type": "execute_result"
    }
   ],
   "source": [
    "rows[:10]"
   ]
  },
  {
   "cell_type": "markdown",
   "metadata": {},
   "source": [
    "### Goal 2"
   ]
  },
  {
   "cell_type": "markdown",
   "metadata": {},
   "source": [
    "Calculate Number of Violations by Car Make."
   ]
  },
  {
   "cell_type": "code",
   "execution_count": 70,
   "metadata": {},
   "outputs": [
    {
     "name": "stdout",
     "output_type": "stream",
     "text": [
      "BMW\n",
      "CHEVR\n",
      "DODGE\n",
      "FORD\n",
      "FORD\n",
      "FRUEH\n",
      "HONDA\n",
      "LINCO\n",
      "TOYOT\n",
      "TOYOT\n"
     ]
    }
   ],
   "source": [
    "rows_gen = parse_rows_gen()\n",
    "for i in range(10):\n",
    "    print(list(next(rows_gen))[7])"
   ]
  },
  {
   "cell_type": "code",
   "execution_count": 71,
   "metadata": {},
   "outputs": [],
   "source": [
    "violation_counts= {}\n",
    "\n",
    "for rows in rows_gen:\n",
    "    maker = list(next(rows_gen))[7]\n",
    "    if maker in violation_counts:\n",
    "        violation_counts[maker] += 1\n",
    "    else:\n",
    "        violation_counts[maker] = 1"
   ]
  },
  {
   "cell_type": "code",
   "execution_count": 72,
   "metadata": {},
   "outputs": [
    {
     "data": {
      "text/plain": [
       "{'CHEVR': 40,\n",
       " 'CHRYS': 7,\n",
       " 'DODGE': 21,\n",
       " 'FIR': 1,\n",
       " 'FORD': 51,\n",
       " 'HONDA': 51,\n",
       " 'HYUND': 18,\n",
       " 'JAGUA': 3,\n",
       " 'JEEP': 11,\n",
       " 'LEXUS': 13,\n",
       " 'ME/BE': 18,\n",
       " 'MERCU': 3,\n",
       " 'NISSA': 34,\n",
       " 'TOYOT': 53,\n",
       " 'HIN': 5,\n",
       " 'WORKH': 1,\n",
       " 'AUDI': 7,\n",
       " 'BMW': 15,\n",
       " 'FRUEH': 21,\n",
       " 'GMC': 18,\n",
       " 'INTER': 11,\n",
       " 'ISUZU': 4,\n",
       " 'KENWO': 3,\n",
       " 'NS/OT': 9,\n",
       " 'OLDSM': 1,\n",
       " 'SUBAR': 10,\n",
       " 'VOLVO': 6,\n",
       " 'SATUR': 2,\n",
       " 'INFIN': 6,\n",
       " 'PETER': 1,\n",
       " 'ACURA': 7,\n",
       " 'CADIL': 4,\n",
       " 'KIA': 3,\n",
       " 'BUICK': 3,\n",
       " 'LINCO': 6,\n",
       " 'MAZDA': 2,\n",
       " 'SMART': 2,\n",
       " 'VOLKS': 4,\n",
       " 'YAMAH': 1,\n",
       " 'ROVER': 2,\n",
       " 'MINI': 1,\n",
       " 'SPRI': 1,\n",
       " 'PLYMO': 1,\n",
       " 'SCION': 1,\n",
       " 'MITSU': 4,\n",
       " 'PORSC': 1,\n",
       " 'UPS': 1,\n",
       " 'UD': 1,\n",
       " None: 1,\n",
       " 'STAR': 1,\n",
       " 'SAAB': 1,\n",
       " 'AM/T': 1,\n",
       " 'HINO': 1,\n",
       " 'MI/F': 1}"
      ]
     },
     "execution_count": 72,
     "metadata": {},
     "output_type": "execute_result"
    }
   ],
   "source": [
    "violation_counts"
   ]
  },
  {
   "cell_type": "code",
   "execution_count": null,
   "metadata": {},
   "outputs": [],
   "source": []
  }
 ],
 "metadata": {
  "kernelspec": {
   "display_name": "Python 3",
   "language": "python",
   "name": "python3"
  },
  "language_info": {
   "codemirror_mode": {
    "name": "ipython",
    "version": 3
   },
   "file_extension": ".py",
   "mimetype": "text/x-python",
   "name": "python",
   "nbconvert_exporter": "python",
   "pygments_lexer": "ipython3",
   "version": "3.7.6"
  }
 },
 "nbformat": 4,
 "nbformat_minor": 4
}
