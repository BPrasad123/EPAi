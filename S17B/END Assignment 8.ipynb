{
 "cells": [
  {
   "cell_type": "markdown",
   "metadata": {},
   "source": [
    "# END Assignment 8:\n",
    "\n",
    "Look at this sample file: sample.py\n",
    "Preview the document You are to write such examples, where you describe the code to be written (starts with #), and the code it should generate. The file shows 3 examples of what text should generate what code. write 100 such examples. These are the requirements:\n",
    "\n",
    "if you want the code to print something, then mention \"print\" in the text read the sample.py clearly to see the examples and learn from it. If you want the code to write a program, you are NOT asking to write a function. If you want a function, please mention it. run the code in the terminal/notebook and make sure it runs! you cannot write more than 5 simple functions like add 2/3/4/5 numbers or divide, etc. Try and think of something tough, for example, add a list or tuple together. \n",
    "\n",
    "stick to python only (no 3rd party library like numpy, etc)  \n",
    "here are some examples:\n",
    "provide the length of list, dict, tuple, etc  \n",
    "write a function to sort a list  \n",
    "write a function to test the time it takes to run a function  \n",
    "write a program to remove stop words from a sentence provided, etc  \n",
    "\n",
    "This assignment is of 1000 marks. Each example if 10 marks. If your example is similar to someone else, then you score less. The formula we will use is 10/(repeated example). That means if 10 people write same example, then you get only 1. So think different! (if examples are mentioned here and in the sample file, you will score less)\n",
    "Once done, please upload the file to github and share another link on the LMS."
   ]
  },
  {
   "cell_type": "code",
   "execution_count": 4,
   "metadata": {},
   "outputs": [],
   "source": [
    "# 01\n",
    "# write a python function to square a number and raise a type error if anything other than a number is given \n",
    "\n",
    "def square_a_num(num):\n",
    "    if isinstance(num, int):\n",
    "        return num**2\n",
    "    else:\n",
    "        raise TypeError(\"Only numbers are allowed\")\n"
   ]
  },
  {
   "cell_type": "code",
   "execution_count": 8,
   "metadata": {},
   "outputs": [
    {
     "data": {
      "text/plain": [
       "144"
      ]
     },
     "execution_count": 8,
     "metadata": {},
     "output_type": "execute_result"
    }
   ],
   "source": [
    "square_a_num(12)"
   ]
  },
  {
   "cell_type": "code",
   "execution_count": 9,
   "metadata": {},
   "outputs": [],
   "source": [
    "# 02\n",
    "# write a python function to take two inputs, convert them to string and then return their concatenation\n",
    "\n",
    "def concatenate_two_strings(inp1, inp2):\n",
    "    inp1, inp2 = str(inp1), str(inp2)\n",
    "    return inp1 + inp2"
   ]
  },
  {
   "cell_type": "code",
   "execution_count": 10,
   "metadata": {},
   "outputs": [
    {
     "data": {
      "text/plain": [
       "'hello25'"
      ]
     },
     "execution_count": 10,
     "metadata": {},
     "output_type": "execute_result"
    }
   ],
   "source": [
    "concatenate_two_strings('hello', 25)"
   ]
  },
  {
   "cell_type": "code",
   "execution_count": 13,
   "metadata": {},
   "outputs": [],
   "source": [
    "# 03\n",
    "# write a python function to pair corresponding elements of two lists and convert that to a dictionary\n",
    "\n",
    "def convert_lists_to_dict(l1, l2):\n",
    "    return dict(zip(l1, l2))"
   ]
  },
  {
   "cell_type": "code",
   "execution_count": 14,
   "metadata": {},
   "outputs": [
    {
     "data": {
      "text/plain": [
       "{1: 4, 2: 5, 3: 6}"
      ]
     },
     "execution_count": 14,
     "metadata": {},
     "output_type": "execute_result"
    }
   ],
   "source": [
    "convert_lists_to_dict([1,2,3], [4,5,6])"
   ]
  },
  {
   "cell_type": "code",
   "execution_count": 15,
   "metadata": {},
   "outputs": [],
   "source": [
    "# 04\n",
    "# write a python program to split a long sentence to a list of unique words\n",
    "\n",
    "sent = '''This is a paragraph written for for the assignment 17B wherein we need to write 100 examples of python functions/programs with corresponding description.'''\n",
    "words = sent.split()\n",
    "unique_words = list(set(words))"
   ]
  },
  {
   "cell_type": "code",
   "execution_count": 21,
   "metadata": {},
   "outputs": [],
   "source": [
    "# 05\n",
    "# write a function to sort all the elements in a list and then print the element with maximum length along with its length value\n",
    "\n",
    "def print_element_with_max_length(l):\n",
    "    l = [str(i) for i in l]\n",
    "    l = sorted(l, key=len, reverse=True)\n",
    "    return l[0], len(l[0])"
   ]
  },
  {
   "cell_type": "code",
   "execution_count": 22,
   "metadata": {},
   "outputs": [
    {
     "data": {
      "text/plain": [
       "('ascddas', 7)"
      ]
     },
     "execution_count": 22,
     "metadata": {},
     "output_type": "execute_result"
    }
   ],
   "source": [
    "print_element_with_max_length([4, 7, 10, 'ascddas'])"
   ]
  },
  {
   "cell_type": "code",
   "execution_count": 25,
   "metadata": {},
   "outputs": [
    {
     "name": "stdout",
     "output_type": "stream",
     "text": [
      "Cannot change values in a tuple\n"
     ]
    }
   ],
   "source": [
    "# 06\n",
    "# write a python program try changing a tuple and raise error if there is any\n",
    "\n",
    "tup = (1, 2, 3, 4, 5)\n",
    "try:\n",
    "    tup[2] = 8\n",
    "except TypeError:\n",
    "    print(\"Cannot change values in a tuple\")"
   ]
  },
  {
   "cell_type": "code",
   "execution_count": 26,
   "metadata": {},
   "outputs": [],
   "source": [
    "# 07\n",
    "# write a python function to multiply each elements in a list using list comprehension\n",
    "\n",
    "def lambda_multiply_by_2(l):\n",
    "    return [i*2 for i in l]"
   ]
  },
  {
   "cell_type": "code",
   "execution_count": 27,
   "metadata": {},
   "outputs": [
    {
     "data": {
      "text/plain": [
       "[2, 10, 16, 'hellohello']"
      ]
     },
     "execution_count": 27,
     "metadata": {},
     "output_type": "execute_result"
    }
   ],
   "source": [
    "lambda_multiply_by_2([1,5,8,'hello'])"
   ]
  },
  {
   "cell_type": "code",
   "execution_count": 30,
   "metadata": {},
   "outputs": [],
   "source": [
    "# 08\n",
    "# write python function to drop and print elements from a list for a given set of indexes\n",
    "\n",
    "def drop_print_elements_for_indexes(l, i):\n",
    "    i = sorted(i, reverse=True)\n",
    "    for idx in i:\n",
    "        print(l.pop(idx))"
   ]
  },
  {
   "cell_type": "code",
   "execution_count": 31,
   "metadata": {},
   "outputs": [
    {
     "name": "stdout",
     "output_type": "stream",
     "text": [
      "6\n",
      "4\n",
      "2\n",
      "1\n"
     ]
    }
   ],
   "source": [
    "drop_print_elements_for_indexes([1,2,3,4,5,6,7,8,9], [3,1,5,0])"
   ]
  },
  {
   "cell_type": "code",
   "execution_count": 32,
   "metadata": {},
   "outputs": [],
   "source": [
    "# 09\n",
    "# write a python function to get unique elements of a list\n",
    "\n",
    "def unique_element_of_list(l):\n",
    "    return list(set(l))"
   ]
  },
  {
   "cell_type": "code",
   "execution_count": 33,
   "metadata": {},
   "outputs": [
    {
     "data": {
      "text/plain": [
       "[1, 2, 5, 6]"
      ]
     },
     "execution_count": 33,
     "metadata": {},
     "output_type": "execute_result"
    }
   ],
   "source": [
    "unique_element_of_list([1,2,2,5,5,6])"
   ]
  },
  {
   "cell_type": "code",
   "execution_count": 34,
   "metadata": {},
   "outputs": [],
   "source": [
    "# 10\n",
    "# write a function to create union of two sets\n",
    "\n",
    "def union_two_sets(s1, s2):\n",
    "    return s1.union(s2)"
   ]
  },
  {
   "cell_type": "code",
   "execution_count": 35,
   "metadata": {},
   "outputs": [
    {
     "data": {
      "text/plain": [
       "{1, 2, 3, 4, 5}"
      ]
     },
     "execution_count": 35,
     "metadata": {},
     "output_type": "execute_result"
    }
   ],
   "source": [
    "union_two_sets({1,2,3}, {2,4,5})"
   ]
  },
  {
   "cell_type": "code",
   "execution_count": 37,
   "metadata": {},
   "outputs": [
    {
     "data": {
      "text/plain": [
       "[15, 11, 12, 10, 3]"
      ]
     },
     "execution_count": 37,
     "metadata": {},
     "output_type": "execute_result"
    }
   ],
   "source": [
    "# 11\n",
    "# write a python program to create a sample of five numbers between 1 and 20\n",
    "\n",
    "import random\n",
    "random.sample(range(1, 20),5)"
   ]
  },
  {
   "cell_type": "code",
   "execution_count": 38,
   "metadata": {},
   "outputs": [],
   "source": [
    "# 12\n",
    "# write a python function to reverse order a list\n",
    "\n",
    "def reverse_list(l):\n",
    "    return l[::-1]"
   ]
  },
  {
   "cell_type": "code",
   "execution_count": 39,
   "metadata": {},
   "outputs": [
    {
     "data": {
      "text/plain": [
       "[4, 3, 2, 1]"
      ]
     },
     "execution_count": 39,
     "metadata": {},
     "output_type": "execute_result"
    }
   ],
   "source": [
    "reverse_list([1,2,3,4])"
   ]
  },
  {
   "cell_type": "code",
   "execution_count": 43,
   "metadata": {},
   "outputs": [
    {
     "data": {
      "text/plain": [
       "['Hello,', 'I', 'am', 'and', 'here', 'program.', 'this', 'writing']"
      ]
     },
     "execution_count": 43,
     "metadata": {},
     "output_type": "execute_result"
    }
   ],
   "source": [
    "# 13\n",
    "# write a python program to sort all the words in a string and print the result\n",
    "\n",
    "s = \"Hello, I am here and writing this program.\"\n",
    "sl = s.split()\n",
    "sorted(sl)"
   ]
  },
  {
   "cell_type": "code",
   "execution_count": 42,
   "metadata": {},
   "outputs": [
    {
     "data": {
      "text/plain": [
       "['Hello,', 'I', 'am', 'and', 'here', 'program.', 'this', 'writing']"
      ]
     },
     "execution_count": 42,
     "metadata": {},
     "output_type": "execute_result"
    }
   ],
   "source": [
    "sl"
   ]
  },
  {
   "cell_type": "code",
   "execution_count": 51,
   "metadata": {},
   "outputs": [],
   "source": [
    "# 14\n",
    "# write a python function to sort a list of words based on their first character unsing lambda function\n",
    "\n",
    "def sort_string_based_1st_chr(sl):\n",
    "    f = lambda x: x[0]\n",
    "    sl = sorted(sl, key = f)\n",
    "    return sl"
   ]
  },
  {
   "cell_type": "code",
   "execution_count": 52,
   "metadata": {},
   "outputs": [
    {
     "data": {
      "text/plain": [
       "['are', 'hello', 'how', 'you']"
      ]
     },
     "execution_count": 52,
     "metadata": {},
     "output_type": "execute_result"
    }
   ],
   "source": [
    "sort_string_based_1st_chr(['hello', 'how', 'are', 'you'])"
   ]
  },
  {
   "cell_type": "code",
   "execution_count": 53,
   "metadata": {},
   "outputs": [],
   "source": [
    "# 15\n",
    "# white a function to convert a tuple to a list\n",
    "\n",
    "def tuple_to_list(t):\n",
    "    return list(t)"
   ]
  },
  {
   "cell_type": "code",
   "execution_count": 54,
   "metadata": {},
   "outputs": [
    {
     "data": {
      "text/plain": [
       "[1, 2, 3, 4]"
      ]
     },
     "execution_count": 54,
     "metadata": {},
     "output_type": "execute_result"
    }
   ],
   "source": [
    "tuple_to_list((1,2,3,4))"
   ]
  },
  {
   "cell_type": "code",
   "execution_count": 55,
   "metadata": {},
   "outputs": [],
   "source": [
    "# 16\n",
    "# write a python function to check if an element is present in a list, return true if found\n",
    "\n",
    "def element_in_list(e, l):\n",
    "    return e in l\n"
   ]
  },
  {
   "cell_type": "code",
   "execution_count": 56,
   "metadata": {},
   "outputs": [
    {
     "data": {
      "text/plain": [
       "True"
      ]
     },
     "execution_count": 56,
     "metadata": {},
     "output_type": "execute_result"
    }
   ],
   "source": [
    "element_in_list(1, [1,3,4])"
   ]
  },
  {
   "cell_type": "code",
   "execution_count": 58,
   "metadata": {},
   "outputs": [
    {
     "data": {
      "text/plain": [
       "[2, 4, 6, 8, 14, 'heyhey']"
      ]
     },
     "execution_count": 58,
     "metadata": {},
     "output_type": "execute_result"
    }
   ],
   "source": [
    "# 17\n",
    "# write a python program to apply lambda function to a list to multiply each element by 2\n",
    "\n",
    "l = [1, 2, 3, 4, 7, 'hey']\n",
    "\n",
    "f = lambda x: x*2\n",
    "l = [f(i) for i in l]\n",
    "l"
   ]
  },
  {
   "cell_type": "code",
   "execution_count": 64,
   "metadata": {},
   "outputs": [
    {
     "data": {
      "text/plain": [
       "5"
      ]
     },
     "execution_count": 64,
     "metadata": {},
     "output_type": "execute_result"
    }
   ],
   "source": [
    "# 18\n",
    "# write a python program to update a global variable\n",
    "\n",
    "var = 0\n",
    "\n",
    "def update_global(inp):\n",
    "    global var\n",
    "    var = inp\n",
    "\n",
    "update_global(5)\n",
    "var"
   ]
  },
  {
   "cell_type": "code",
   "execution_count": 65,
   "metadata": {},
   "outputs": [
    {
     "name": "stdout",
     "output_type": "stream",
     "text": [
      "(1, 3, 5)\n"
     ]
    }
   ],
   "source": [
    "# 19\n",
    "# write a python function print every alternate elements from a tuple\n",
    "\n",
    "def print_alt_tuple(t):\n",
    "    print(t[::2])\n",
    "    \n",
    "print_alt_tuple((1,2,3,4,5,6))"
   ]
  },
  {
   "cell_type": "code",
   "execution_count": 66,
   "metadata": {},
   "outputs": [
    {
     "name": "stdout",
     "output_type": "stream",
     "text": [
      "True\n",
      "False\n"
     ]
    }
   ],
   "source": [
    "# 20\n",
    "# wirte python program to print if memory location of two objects with same integer values are same\n",
    "\n",
    "a = 10\n",
    "b = 10\n",
    "\n",
    "print(id(a) == id(10))\n",
    "a = 1000\n",
    "b = 1000\n",
    "\n",
    "print(id(a) == id(10))\n",
    "\n"
   ]
  },
  {
   "cell_type": "code",
   "execution_count": 67,
   "metadata": {},
   "outputs": [
    {
     "name": "stdout",
     "output_type": "stream",
     "text": [
      "postional arguments (1, 2, 3)\n",
      "keywords arguments {'a': 4, 'b': 5}\n"
     ]
    }
   ],
   "source": [
    "# 21\n",
    "# write a python function to take and print any number of positional and keyword arguments\n",
    "\n",
    "def print_any_args_and_kwargs(*args, **kwargs):\n",
    "    print(\"postional arguments\", args)\n",
    "    print(\"keywords arguments\", kwargs)\n",
    "    \n",
    "print_any_args_and_kwargs(1,2,3, a=4, b=5)"
   ]
  },
  {
   "cell_type": "code",
   "execution_count": 68,
   "metadata": {},
   "outputs": [
    {
     "name": "stdout",
     "output_type": "stream",
     "text": [
      "False\n",
      "True\n"
     ]
    }
   ],
   "source": [
    "# 22\n",
    "# write a python program showing memory locations of two variables assigned with exact same long text and then use sys intern to make them use same memory\n",
    "\n",
    "text1 = \"write a python program showing memory locations of two variables assigned with exact same long text and then use sys intern to make them use same memory\"\n",
    "text2 = \"write a python program showing memory locations of two variables assigned with exact same long text and then use sys intern to make them use same memory\"\n",
    "\n",
    "print(id(text1) == id(text2))\n",
    "\n",
    "import sys\n",
    "text1 = sys.intern(\"write a python program showing memory locations of two variables assigned with exact same long text and then use sys intern to make them use same memory\")\n",
    "text2 = sys.intern(\"write a python program showing memory locations of two variables assigned with exact same long text and then use sys intern to make them use same memory\")\n",
    "\n",
    "print(id(text1) == id(text2))\n",
    "\n"
   ]
  },
  {
   "cell_type": "code",
   "execution_count": 70,
   "metadata": {},
   "outputs": [
    {
     "data": {
      "text/plain": [
       "[1, 2, 4, 6, 7]"
      ]
     },
     "execution_count": 70,
     "metadata": {},
     "output_type": "execute_result"
    }
   ],
   "source": [
    "# 23\n",
    "# write a python function to remove duplicates from a list using set operation\n",
    "\n",
    "def remove_duplicates_from_list(l):\n",
    "    return list(set(l))\n",
    "\n",
    "remove_duplicates_from_list([1,2,2,4,4,6,7,4])"
   ]
  },
  {
   "cell_type": "code",
   "execution_count": 71,
   "metadata": {},
   "outputs": [
    {
     "data": {
      "text/plain": [
       "[2, 3, 4]"
      ]
     },
     "execution_count": 71,
     "metadata": {},
     "output_type": "execute_result"
    }
   ],
   "source": [
    "# 24\n",
    "# write a python function to find a list of common elements between two lists using set operation\n",
    "\n",
    "def find_comm_elems_using_set(l1, l2):\n",
    "    l1, l2 = set(l1), set(l2)\n",
    "    return list(l1.intersection(l2))\n",
    "\n",
    "find_comm_elems_using_set([1,2,3,4,5,5], [3,3,6,4,2,0])"
   ]
  },
  {
   "cell_type": "code",
   "execution_count": 72,
   "metadata": {},
   "outputs": [
    {
     "data": {
      "text/plain": [
       "Counter({1: 1, 2: 2, 3: 3, 4: 4, 5: 1, 6: 2, 0: 2})"
      ]
     },
     "execution_count": 72,
     "metadata": {},
     "output_type": "execute_result"
    }
   ],
   "source": [
    "# 25\n",
    "# write a python find the count of each element in a list using collections package\n",
    "\n",
    "def find_elem_occur_in_list(l):\n",
    "    from collections import Counter\n",
    "    return Counter(l)\n",
    "\n",
    "find_elem_occur_in_list([1,2,2,3,3,3,4,4,4,4,5,6,6,0,0])"
   ]
  },
  {
   "cell_type": "code",
   "execution_count": 2,
   "metadata": {},
   "outputs": [
    {
     "name": "stdout",
     "output_type": "stream",
     "text": [
      "Current date and time: 2020-12-16 12:32:38.117128\n"
     ]
    }
   ],
   "source": [
    "# 26\n",
    "# write a python function to print \"Current date and time: \" along with actual date and time using f string\n",
    "\n",
    "def print_current_time_fstring():\n",
    "    from datetime import datetime\n",
    "    print(f\"Current date and time: {datetime.now()}\")\n",
    "    \n",
    "print_current_time_fstring()"
   ]
  },
  {
   "cell_type": "code",
   "execution_count": 4,
   "metadata": {},
   "outputs": [
    {
     "data": {
      "text/plain": [
       "9"
      ]
     },
     "execution_count": 4,
     "metadata": {},
     "output_type": "execute_result"
    }
   ],
   "source": [
    "# 27\n",
    "# write a python function to sum all the input values\n",
    "\n",
    "def sum_all_values(*args):\n",
    "    return sum(args)\n",
    "\n",
    "sum_all_values(2,3,4)"
   ]
  },
  {
   "cell_type": "code",
   "execution_count": 5,
   "metadata": {},
   "outputs": [
    {
     "data": {
      "text/plain": [
       "'hello, i am here!'"
      ]
     },
     "execution_count": 5,
     "metadata": {},
     "output_type": "execute_result"
    }
   ],
   "source": [
    "# 28\n",
    "# write a python function to convert a text to its lower case\n",
    "\n",
    "def convert_string_to_lower(t):\n",
    "    t = str(t)\n",
    "    return t.lower()\n",
    "\n",
    "convert_string_to_lower(\"Hello, I am here!\")"
   ]
  },
  {
   "cell_type": "code",
   "execution_count": 12,
   "metadata": {},
   "outputs": [
    {
     "data": {
      "text/plain": [
       "True"
      ]
     },
     "execution_count": 12,
     "metadata": {},
     "output_type": "execute_result"
    }
   ],
   "source": [
    "# 29\n",
    "# write a python funciton to check if the all the characters in a string are alpha numeric except spaces\n",
    "\n",
    "def check_string_alphanum(t):\n",
    "    t = str(t)\n",
    "    t = t.replace(' ', '')\n",
    "    return t.isalnum()\n",
    "\n",
    "check_string_alphanum(\"Hey how are you\")"
   ]
  },
  {
   "cell_type": "code",
   "execution_count": 14,
   "metadata": {},
   "outputs": [
    {
     "data": {
      "text/plain": [
       "[1, 3, 5, 5, 7, 9]"
      ]
     },
     "execution_count": 14,
     "metadata": {},
     "output_type": "execute_result"
    }
   ],
   "source": [
    "# 30\n",
    "# write a python program to drop even numbers from a list using filter and lambda\n",
    "\n",
    "l = [1,2,3,4,5,5,6,7,8,9,0]\n",
    "new_l = list(filter(lambda x: x%2, l))\n",
    "\n",
    "new_l"
   ]
  },
  {
   "cell_type": "code",
   "execution_count": 15,
   "metadata": {},
   "outputs": [
    {
     "data": {
      "text/plain": [
       "[1, 4, 9, 16, 25, 25, 36, 49, 64, 81, 0]"
      ]
     },
     "execution_count": 15,
     "metadata": {},
     "output_type": "execute_result"
    }
   ],
   "source": [
    "# 31\n",
    "# write a python program to square each element in a list using lambda and map\n",
    "\n",
    "l = [1,2,3,4,5,5,6,7,8,9,0]\n",
    "new_l = list(map(lambda x: x**2, l))\n",
    "\n",
    "new_l"
   ]
  },
  {
   "cell_type": "code",
   "execution_count": 18,
   "metadata": {},
   "outputs": [
    {
     "data": {
      "text/plain": [
       "50"
      ]
     },
     "execution_count": 18,
     "metadata": {},
     "output_type": "execute_result"
    }
   ],
   "source": [
    "# 32\n",
    "# write a python function to return the sum of all the elements in a list using lambda and reduce\n",
    "\n",
    "from functools import reduce\n",
    "\n",
    "l = [1,2,3,4,5,5,6,7,8,9,0]\n",
    "new_l = reduce(lambda x, y: x + y, l)\n",
    "\n",
    "new_l "
   ]
  },
  {
   "cell_type": "code",
   "execution_count": 20,
   "metadata": {},
   "outputs": [
    {
     "name": "stdout",
     "output_type": "stream",
     "text": [
      "1\n",
      "2\n",
      "3\n",
      "4\n"
     ]
    }
   ],
   "source": [
    "# 33\n",
    "# write a python function to print all the positive integers less than a given number\n",
    "\n",
    "def print_int_less_given_int(limit):\n",
    "    for i in range(1, limit):\n",
    "        print(i)\n",
    "\n",
    "print_int_less_given_int(5)"
   ]
  },
  {
   "cell_type": "code",
   "execution_count": 21,
   "metadata": {},
   "outputs": [
    {
     "name": "stdout",
     "output_type": "stream",
     "text": [
      "bhagabat.p@gmail.com\n"
     ]
    }
   ],
   "source": [
    "# 34\n",
    "# write a python function to print all the emails from a given text using regex\n",
    "\n",
    "def print_emails_from_text_regex(text):\n",
    "    import re\n",
    "    match = re.search(r'[\\w\\.-]+@[\\w\\.-]+', text)\n",
    "    print(match.group(0))\n",
    "\n",
    "print_emails_from_text_regex(\"My email id is bhagabat.p@gmail.com\")"
   ]
  },
  {
   "cell_type": "code",
   "execution_count": 22,
   "metadata": {},
   "outputs": [
    {
     "name": "stdout",
     "output_type": "stream",
     "text": [
      "5 10\n",
      "10 5\n"
     ]
    }
   ],
   "source": [
    "# 35\n",
    "# write a python program to swap values of two variables\n",
    "\n",
    "a = 5\n",
    "b = 10\n",
    "print(a, b)\n",
    "\n",
    "a, b = b, a\n",
    "print(a, b)"
   ]
  },
  {
   "cell_type": "code",
   "execution_count": 23,
   "metadata": {},
   "outputs": [
    {
     "data": {
      "text/plain": [
       "62.137100000000004"
      ]
     },
     "execution_count": 23,
     "metadata": {},
     "output_type": "execute_result"
    }
   ],
   "source": [
    "# 36\n",
    "# write a function to convert kelometer to miles where conversion factor is 0.621371\n",
    "\n",
    "def convert_km_to_miles(km):\n",
    "    return km*0.621371\n",
    "\n",
    "convert_km_to_miles(100)"
   ]
  },
  {
   "cell_type": "code",
   "execution_count": 27,
   "metadata": {},
   "outputs": [
    {
     "name": "stdout",
     "output_type": "stream",
     "text": [
      "1\n",
      "3\n",
      "6\n",
      "8\n",
      "9\n"
     ]
    }
   ],
   "source": [
    "# 37\n",
    "# write a python program to print all the elements of a list sequentially until a number comes that is divisible by 5 using while loop\n",
    "\n",
    "l = [1, 3, 6, 8, 9, 'hello', 10, 13]\n",
    "i = 0\n",
    "while True:\n",
    "    if isinstance(l[i], int):\n",
    "        if l[i]%5 == 0:\n",
    "            break\n",
    "        else:\n",
    "            print(l[i])\n",
    "    i+=1"
   ]
  },
  {
   "cell_type": "code",
   "execution_count": 29,
   "metadata": {},
   "outputs": [
    {
     "name": "stdout",
     "output_type": "stream",
     "text": [
      "-5.0\n",
      "-10.0\n",
      "not divisible by zero\n",
      "10.0\n",
      "5.0\n"
     ]
    }
   ],
   "source": [
    "# 38\n",
    "# write a python program to divide 10 by each of elements from a range between -2 to 3 and print \"not divisible by zero\" if there is division error\n",
    "\n",
    "for i in range(5):\n",
    "    try:\n",
    "        print(10/(i-2))\n",
    "    except ZeroDivisionError:\n",
    "        print(\"not divisible by zero\")\n",
    "        continue"
   ]
  },
  {
   "cell_type": "code",
   "execution_count": 30,
   "metadata": {},
   "outputs": [
    {
     "name": "stdout",
     "output_type": "stream",
     "text": [
      "0 h\n",
      "1 e\n",
      "2 y\n",
      "3 ,\n",
      "4  \n",
      "5 t\n",
      "6 h\n",
      "7 e\n",
      "8 r\n",
      "9 e\n",
      "10 !\n"
     ]
    }
   ],
   "source": [
    "# 39\n",
    "# write a python program to print all the characters in a string along with their position numbers\n",
    "\n",
    "string = \"hey, there!\"\n",
    "for i, j in enumerate(string):\n",
    "    print(i, j)"
   ]
  },
  {
   "cell_type": "code",
   "execution_count": 33,
   "metadata": {},
   "outputs": [
    {
     "data": {
      "text/plain": [
       "[1, 2, 3, 4, 5, 6, 7]"
      ]
     },
     "execution_count": 33,
     "metadata": {},
     "output_type": "execute_result"
    }
   ],
   "source": [
    "# 40\n",
    "# write a python function to extend a list by another list\n",
    "\n",
    "def extend_list_by_another(l1, l2):\n",
    "    l1.extend(l2)\n",
    "    return l1\n",
    "\n",
    "extend_list_by_another([1,2,3,4,5], [6,7])"
   ]
  },
  {
   "cell_type": "code",
   "execution_count": 35,
   "metadata": {},
   "outputs": [
    {
     "data": {
      "text/plain": [
       "['has',\n",
       " 'been',\n",
       " 'course.',\n",
       " 'provide',\n",
       " 'tremendous',\n",
       " 'to',\n",
       " 'learn',\n",
       " 'new',\n",
       " 'things',\n",
       " 'those',\n",
       " 'to',\n",
       " 'real',\n",
       " 'world',\n",
       " 'projects.']"
      ]
     },
     "execution_count": 35,
     "metadata": {},
     "output_type": "execute_result"
    }
   ],
   "source": [
    "# 41\n",
    "# write a python program all the words from a string that are starting with a vowel using list comprehension\n",
    "\n",
    "vowels = ['a', 'e', 'i', 'o', 'u']\n",
    "\n",
    "string = \"EPAI has been an amazing course. It provide tremendous opportunity to learn new things and apply those to real world projects.\"\n",
    "\n",
    "words = [w for w in string.lower().split() if w[0] not in vowels]\n",
    "\n",
    "words"
   ]
  },
  {
   "cell_type": "code",
   "execution_count": 38,
   "metadata": {},
   "outputs": [
    {
     "data": {
      "text/plain": [
       "10"
      ]
     },
     "execution_count": 38,
     "metadata": {},
     "output_type": "execute_result"
    }
   ],
   "source": [
    "# 42\n",
    "# write a python program to get value of a key and if key is not present then get a default value 10\n",
    "\n",
    "d = {'a':2, 'b':3}\n",
    "d.get('c', 10)"
   ]
  },
  {
   "cell_type": "code",
   "execution_count": 39,
   "metadata": {},
   "outputs": [
    {
     "name": "stdout",
     "output_type": "stream",
     "text": [
      "olleH\n"
     ]
    }
   ],
   "source": [
    "# 43\n",
    "# write a python program to print a string in reverse order\n",
    "\n",
    "def print_string_reverse_order(s):\n",
    "    print(s[::-1])\n",
    "\n",
    "print_string_reverse_order(\"Hello\")"
   ]
  },
  {
   "cell_type": "code",
   "execution_count": 41,
   "metadata": {},
   "outputs": [
    {
     "name": "stdout",
     "output_type": "stream",
     "text": [
      "28\n"
     ]
    }
   ],
   "source": [
    "# 44\n",
    "# write a python function to print the size of an object\n",
    "\n",
    "def sizeof(x):\n",
    "    import sys\n",
    "    print(sys.getsizeof(x))\n",
    "\n",
    "sizeof(100)"
   ]
  },
  {
   "cell_type": "code",
   "execution_count": 42,
   "metadata": {},
   "outputs": [
    {
     "name": "stdout",
     "output_type": "stream",
     "text": [
      "0.09627240000008896\n"
     ]
    }
   ],
   "source": [
    "# 45\n",
    "# write a python program to print time taken by a square functin that executes for a range of 0 to 1000000\n",
    "\n",
    "import time\n",
    "\n",
    "def calc(a):\n",
    "    for i in range(1000000):\n",
    "        a * 2\n",
    "\n",
    "start = time.perf_counter()\n",
    "calc(10)\n",
    "end = time.perf_counter()\n",
    "print(end - start)"
   ]
  },
  {
   "cell_type": "code",
   "execution_count": 43,
   "metadata": {},
   "outputs": [
    {
     "data": {
      "text/plain": [
       "'0x64'"
      ]
     },
     "execution_count": 43,
     "metadata": {},
     "output_type": "execute_result"
    }
   ],
   "source": [
    "# 46\n",
    "# write a python function to convert an integer to hexa decimant format\n",
    "\n",
    "def convert_int_to_hexa(n):\n",
    "    return hex(n)\n",
    "\n",
    "convert_int_to_hexa(100)"
   ]
  },
  {
   "cell_type": "code",
   "execution_count": 44,
   "metadata": {},
   "outputs": [
    {
     "name": "stdout",
     "output_type": "stream",
     "text": [
      "23/4\n"
     ]
    }
   ],
   "source": [
    "# 47\n",
    "# write a python program to add and print two franction numbers\n",
    "\n",
    "from fractions import Fraction\n",
    "\n",
    "a = Fraction(10, 2)\n",
    "b = Fraction(3, 4)\n",
    "\n",
    "print(a+b)"
   ]
  },
  {
   "cell_type": "code",
   "execution_count": 45,
   "metadata": {},
   "outputs": [
    {
     "name": "stdout",
     "output_type": "stream",
     "text": [
      "0.100000000000000005551115123126\n"
     ]
    }
   ],
   "source": [
    "# 48\n",
    "# write a python program to print 0.1 upto 30 decimal positions\n",
    "\n",
    "n = 0.1\n",
    "print(format(n, '0.30f'))"
   ]
  },
  {
   "cell_type": "code",
   "execution_count": 46,
   "metadata": {},
   "outputs": [
    {
     "name": "stdout",
     "output_type": "stream",
     "text": [
      "Help on function dummy_func in module __main__:\n",
      "\n",
      "dummy_func()\n",
      "    Does nothing literally!\n",
      "\n"
     ]
    }
   ],
   "source": [
    "# 49\n",
    "# write a python program to write a function with docstring and then show the docstring using help\n",
    "\n",
    "def dummy_func():\n",
    "    '''\n",
    "    Does nothing literally!\n",
    "    '''\n",
    "    pass\n",
    "\n",
    "help(dummy_func)"
   ]
  },
  {
   "cell_type": "code",
   "execution_count": 51,
   "metadata": {},
   "outputs": [
    {
     "data": {
      "text/plain": [
       "{'a': 1, 'b': 2, 'c': 3, 'd': 4, 'e': 5, 'f': 6}"
      ]
     },
     "execution_count": 51,
     "metadata": {},
     "output_type": "execute_result"
    }
   ],
   "source": [
    "# 50\n",
    "# write a python program to merge three dictionaries using unpacking\n",
    "\n",
    "d1 = {'a': 1, 'b':2}\n",
    "d2 = {'c': 3, 'd':4}\n",
    "d3 = {'e': 5, 'f':6}\n",
    "\n",
    "d = {**d1, **d2, **d3}\n",
    "d\n"
   ]
  },
  {
   "cell_type": "code",
   "execution_count": 52,
   "metadata": {},
   "outputs": [
    {
     "name": "stdout",
     "output_type": "stream",
     "text": [
      "False\n"
     ]
    }
   ],
   "source": [
    "# 51\n",
    "# write a python program to check and print if an element is present in a list\n",
    "\n",
    "e = 10\n",
    "l = [1,2,3,4,5,5,100]\n",
    "\n",
    "print(e in l)"
   ]
  },
  {
   "cell_type": "code",
   "execution_count": 54,
   "metadata": {},
   "outputs": [
    {
     "data": {
      "text/plain": [
       "3.0"
      ]
     },
     "execution_count": 54,
     "metadata": {},
     "output_type": "execute_result"
    }
   ],
   "source": [
    "# 52\n",
    "# write a python function to get average value for all the numbers given as input\n",
    "\n",
    "def avg_of_all_nbr(*args):\n",
    "    return sum(args) / len(args)\n",
    "\n",
    "avg_of_all_nbr(1,2,3,4,5)"
   ]
  },
  {
   "cell_type": "code",
   "execution_count": 56,
   "metadata": {},
   "outputs": [
    {
     "data": {
      "text/plain": [
       "3628800"
      ]
     },
     "execution_count": 56,
     "metadata": {},
     "output_type": "execute_result"
    }
   ],
   "source": [
    "# 53\n",
    "# write a recursive pytoh program to get the factorial of a number\n",
    "\n",
    "def factorial(n):\n",
    "    if n < 1:\n",
    "        return 1\n",
    "    else: \n",
    "        return n * factorial(n - 1)\n",
    "\n",
    "factorial(10)"
   ]
  },
  {
   "cell_type": "code",
   "execution_count": 57,
   "metadata": {},
   "outputs": [
    {
     "data": {
      "text/plain": [
       "21"
      ]
     },
     "execution_count": 57,
     "metadata": {},
     "output_type": "execute_result"
    }
   ],
   "source": [
    "# 54\n",
    "# write a python lambda function to sum any number of given input numbers\n",
    "\n",
    "f = lambda *args: sum(args)\n",
    "\n",
    "f(1,2,3,4,5,6)"
   ]
  },
  {
   "cell_type": "code",
   "execution_count": 58,
   "metadata": {},
   "outputs": [
    {
     "data": {
      "text/plain": [
       "[0, 1, 2, -2, 3, -3, -4, 5]"
      ]
     },
     "execution_count": 58,
     "metadata": {},
     "output_type": "execute_result"
    }
   ],
   "source": [
    "# 55\n",
    "# write a python program to sort a list based on their squared values using lambda function\n",
    "\n",
    "l = [-4, 2, 3, -2, 0, 1, -3, 5]\n",
    "\n",
    "sorted(l, key=lambda x: x**2)"
   ]
  },
  {
   "cell_type": "code",
   "execution_count": 59,
   "metadata": {},
   "outputs": [
    {
     "name": "stdout",
     "output_type": "stream",
     "text": [
      "(10, 20)\n",
      "dummy_func\n"
     ]
    }
   ],
   "source": [
    "# 56\n",
    "# write a python function with default parameters and once the function is defined, print the default parameters and name of the function\n",
    "\n",
    "def dummy_func(x=10, y=20):\n",
    "    print(x,y)\n",
    "\n",
    "print(dummy_func.__defaults__)\n",
    "print(dummy_func.__name__)"
   ]
  },
  {
   "cell_type": "code",
   "execution_count": 60,
   "metadata": {},
   "outputs": [
    {
     "ename": "TypeError",
     "evalue": "Cannot change values in a tuple",
     "output_type": "error",
     "traceback": [
      "\u001b[1;31m---------------------------------------------------------------------------\u001b[0m",
      "\u001b[1;31mTypeError\u001b[0m                                 Traceback (most recent call last)",
      "\u001b[1;32m<ipython-input-60-aa55777c65d3>\u001b[0m in \u001b[0;36m<module>\u001b[1;34m\u001b[0m\n\u001b[0;32m      5\u001b[0m \u001b[1;32mtry\u001b[0m\u001b[1;33m:\u001b[0m\u001b[1;33m\u001b[0m\u001b[1;33m\u001b[0m\u001b[0m\n\u001b[1;32m----> 6\u001b[1;33m     \u001b[0mt\u001b[0m\u001b[1;33m[\u001b[0m\u001b[1;36m0\u001b[0m\u001b[1;33m]\u001b[0m \u001b[1;33m=\u001b[0m \u001b[1;36m5\u001b[0m\u001b[1;33m\u001b[0m\u001b[1;33m\u001b[0m\u001b[0m\n\u001b[0m\u001b[0;32m      7\u001b[0m \u001b[1;32mexcept\u001b[0m\u001b[1;33m:\u001b[0m\u001b[1;33m\u001b[0m\u001b[1;33m\u001b[0m\u001b[0m\n",
      "\u001b[1;31mTypeError\u001b[0m: 'tuple' object does not support item assignment",
      "\nDuring handling of the above exception, another exception occurred:\n",
      "\u001b[1;31mTypeError\u001b[0m                                 Traceback (most recent call last)",
      "\u001b[1;32m<ipython-input-60-aa55777c65d3>\u001b[0m in \u001b[0;36m<module>\u001b[1;34m\u001b[0m\n\u001b[0;32m      6\u001b[0m     \u001b[0mt\u001b[0m\u001b[1;33m[\u001b[0m\u001b[1;36m0\u001b[0m\u001b[1;33m]\u001b[0m \u001b[1;33m=\u001b[0m \u001b[1;36m5\u001b[0m\u001b[1;33m\u001b[0m\u001b[1;33m\u001b[0m\u001b[0m\n\u001b[0;32m      7\u001b[0m \u001b[1;32mexcept\u001b[0m\u001b[1;33m:\u001b[0m\u001b[1;33m\u001b[0m\u001b[1;33m\u001b[0m\u001b[0m\n\u001b[1;32m----> 8\u001b[1;33m     \u001b[1;32mraise\u001b[0m \u001b[0mTypeError\u001b[0m\u001b[1;33m(\u001b[0m\u001b[1;34m\"Cannot change values in a tuple\"\u001b[0m\u001b[1;33m)\u001b[0m\u001b[1;33m\u001b[0m\u001b[1;33m\u001b[0m\u001b[0m\n\u001b[0m",
      "\u001b[1;31mTypeError\u001b[0m: Cannot change values in a tuple"
     ]
    }
   ],
   "source": [
    "# 57\n",
    "# write a python program to define a tuple and then raise typeerror while trying to update its values\n",
    "\n",
    "t = (1, 2, 3, 4)\n",
    "try:\n",
    "    t[0] = 5\n",
    "except:\n",
    "    raise TypeError(\"Cannot change values in a tuple\")"
   ]
  },
  {
   "cell_type": "code",
   "execution_count": 65,
   "metadata": {},
   "outputs": [
    {
     "name": "stdout",
     "output_type": "stream",
     "text": [
      "['cuttack', 'gurugram', 'noida']\n",
      "['gandhinagar', 'bangalore', 'noida']\n",
      "['bhubaneswar', 'gandhinagar', 'kolkata']\n",
      "['gandhinagar', 'mumbai', 'bhubaneswar']\n",
      "['mumbai', 'kolkata', 'mumbai']\n"
     ]
    }
   ],
   "source": [
    "# 58\n",
    "# in python program create a tuple of 10 strings and then create a random sample of 3 for five times\n",
    "\n",
    "s = ('bangalore', 'mumbai', 'delhi', 'kolkata', 'pune', 'gurugram', 'bhubaneswar', 'cuttack', 'noida', 'gandhinagar')\n",
    "import random\n",
    "for _ in range(5):\n",
    "    print(random.choices(s, k=3))"
   ]
  },
  {
   "cell_type": "code",
   "execution_count": 66,
   "metadata": {},
   "outputs": [
    {
     "name": "stdout",
     "output_type": "stream",
     "text": [
      "10\n",
      "10\n"
     ]
    }
   ],
   "source": [
    "# 59\n",
    "# write a python program with variable a and a function that uses and updates another variable with same name. show if the global a is changed by the function\n",
    "\n",
    "a = 10\n",
    "print(a)\n",
    "\n",
    "def func():\n",
    "    a = 20\n",
    "    pass\n",
    "\n",
    "func()\n",
    "\n",
    "print(a)"
   ]
  },
  {
   "cell_type": "code",
   "execution_count": 67,
   "metadata": {},
   "outputs": [
    {
     "data": {
      "text/plain": [
       "3.1622776601683795"
      ]
     },
     "execution_count": 67,
     "metadata": {},
     "output_type": "execute_result"
    }
   ],
   "source": [
    "# 60\n",
    "# write a python function to get a square root of a number\n",
    "\n",
    "def sqrt_func(n):\n",
    "    return n**0.5\n",
    "\n",
    "sqrt_func(10)"
   ]
  },
  {
   "cell_type": "code",
   "execution_count": 68,
   "metadata": {},
   "outputs": [
    {
     "data": {
      "text/plain": [
       "40"
      ]
     },
     "execution_count": 68,
     "metadata": {},
     "output_type": "execute_result"
    }
   ],
   "source": [
    "# 61\n",
    "# write a python program with lambda function that takes a number and multiplies that with a global variable\n",
    "\n",
    "a = 10\n",
    "\n",
    "f = lambda n: a * n\n",
    "\n",
    "f(4)"
   ]
  },
  {
   "cell_type": "code",
   "execution_count": 76,
   "metadata": {},
   "outputs": [
    {
     "data": {
      "text/plain": [
       "3"
      ]
     },
     "execution_count": 76,
     "metadata": {},
     "output_type": "execute_result"
    }
   ],
   "source": [
    "# 62\n",
    "# write a python program that takes an element in a list and then prints the next element, print a message when end of the index reaches\n",
    "\n",
    "l = [4, 5, 3, 7, 2, 0, 9]\n",
    "def get_next_elem(l, v):\n",
    "    i = l.index(v)\n",
    "    if i < (len(l)-1):\n",
    "        return l[i+1]\n",
    "    else:\n",
    "        print(\"There is no next element to the given one\")\n",
    "\n",
    "get_next_elem(l, 5)"
   ]
  },
  {
   "cell_type": "code",
   "execution_count": 77,
   "metadata": {},
   "outputs": [
    {
     "data": {
      "text/plain": [
       "'hello I am XOR'"
      ]
     },
     "execution_count": 77,
     "metadata": {},
     "output_type": "execute_result"
    }
   ],
   "source": [
    "# 63\n",
    "# write a python function to join all the elements of a list with a given separator\n",
    "\n",
    "def join_all_elems(l, s):\n",
    "    return s.join(l)\n",
    "\n",
    "join_all_elems(['hello', 'I', 'am', 'XOR'], ' ')"
   ]
  },
  {
   "cell_type": "code",
   "execution_count": 81,
   "metadata": {},
   "outputs": [
    {
     "name": "stdout",
     "output_type": "stream",
     "text": [
      "0\n",
      "2\n",
      "4\n",
      "6\n",
      "8\n"
     ]
    }
   ],
   "source": [
    "# 64\n",
    "# write a python function with for loop to print only even numbers from a list of numbers with range from 0 to 10\n",
    "\n",
    "def for_loop_print_even(n):\n",
    "    for i in range(n):\n",
    "        if i%2 == 0:\n",
    "            print(i)\n",
    "\n",
    "for_loop_print_even(10)"
   ]
  },
  {
   "cell_type": "code",
   "execution_count": 82,
   "metadata": {},
   "outputs": [
    {
     "name": "stdout",
     "output_type": "stream",
     "text": [
      "6\n"
     ]
    }
   ],
   "source": [
    "# 65\n",
    "# write a python function to print the maximum number from a tuple\n",
    "\n",
    "def print_max_tuple(t):\n",
    "    print(max(t))\n",
    "\n",
    "print_max_tuple((1, 6, 4, -3, 2))"
   ]
  },
  {
   "cell_type": "code",
   "execution_count": 86,
   "metadata": {},
   "outputs": [
    {
     "data": {
      "text/plain": [
       "[(1, 2), (3, 4), (5, 6), (7, 8), (9, 0)]"
      ]
     },
     "execution_count": 86,
     "metadata": {},
     "output_type": "execute_result"
    }
   ],
   "source": [
    "# 66\n",
    "# write a python program to return a list of one to one pair between two tuples using zip\n",
    "t1 = (1,3,5,7,9)\n",
    "t2 = (2,4,6,8,0)\n",
    "\n",
    "def pair_oneone_tuples(t1, t2):\n",
    "    return [(i, j) for i, j in zip(t1, t2)]\n",
    "pair_oneone_tuples(t1, t2)"
   ]
  },
  {
   "cell_type": "code",
   "execution_count": 87,
   "metadata": {},
   "outputs": [],
   "source": [
    "# 67\n",
    "# write a python program that can yield square of numbers within a range\n",
    "\n",
    "def squares(lim):\n",
    "    i = 0\n",
    "    while True:\n",
    "        if i < lim:\n",
    "            result = i**2\n",
    "            i += 1\n",
    "            yield result\n",
    "        else:\n",
    "            return 'all done!'\n"
   ]
  },
  {
   "cell_type": "code",
   "execution_count": 91,
   "metadata": {},
   "outputs": [
    {
     "name": "stdout",
     "output_type": "stream",
     "text": [
      "0\n",
      "1\n",
      "4\n",
      "9\n",
      "16\n"
     ]
    }
   ],
   "source": [
    "for n in squares(5):\n",
    "    print(n)"
   ]
  },
  {
   "cell_type": "code",
   "execution_count": 92,
   "metadata": {},
   "outputs": [
    {
     "data": {
      "text/plain": [
       "[1, 2, 4]"
      ]
     },
     "execution_count": 92,
     "metadata": {},
     "output_type": "execute_result"
    }
   ],
   "source": [
    "# 68\n",
    "# write a python program to remove all the elements from list a that are present in list b using set up operation\n",
    "\n",
    "a = [1,2,3,4,5]\n",
    "b = [3,5,7,8]\n",
    "\n",
    "list(set(a) - (set(b)))"
   ]
  },
  {
   "cell_type": "code",
   "execution_count": 93,
   "metadata": {},
   "outputs": [
    {
     "name": "stdout",
     "output_type": "stream",
     "text": [
      "0\n",
      "1\n",
      "4\n",
      "9\n",
      "16\n"
     ]
    }
   ],
   "source": [
    "# 69\n",
    "# write a python function to create a generator of square of numbers within range of 5\n",
    "\n",
    "g = (i**2 for i in range(5))\n",
    "\n",
    "for v in g:\n",
    "    print(v)"
   ]
  },
  {
   "cell_type": "code",
   "execution_count": 94,
   "metadata": {},
   "outputs": [
    {
     "data": {
      "text/plain": [
       "'Well, is good Having coding morning.'"
      ]
     },
     "execution_count": 94,
     "metadata": {},
     "output_type": "execute_result"
    }
   ],
   "source": [
    "# 70\n",
    "# write a python function to read a sentence and print only alternate words from it joined by spaces\n",
    "\n",
    "def print_alt_sents_spaces(sent):\n",
    "    ws = sent.split()\n",
    "    ws = ws[::2]\n",
    "    return ' '.join(ws)\n",
    "\n",
    "print_alt_sents_spaces(\"Well, today is a good day. Having been coding since morning.\")"
   ]
  },
  {
   "cell_type": "code",
   "execution_count": 95,
   "metadata": {},
   "outputs": [
    {
     "name": "stdout",
     "output_type": "stream",
     "text": [
      "9 11\n"
     ]
    }
   ],
   "source": [
    "# 71\n",
    "# write a python function to take an interger and print its previous and next integers\n",
    "\n",
    "def print_prev_next_ints(n):\n",
    "    print(n-1, n+1)\n",
    "\n",
    "print_prev_next_ints(10)"
   ]
  },
  {
   "cell_type": "code",
   "execution_count": 96,
   "metadata": {},
   "outputs": [
    {
     "data": {
      "text/plain": [
       "True"
      ]
     },
     "execution_count": 96,
     "metadata": {},
     "output_type": "execute_result"
    }
   ],
   "source": [
    "# 72\n",
    "# write a python function to check if a string is present in another string\n",
    "\n",
    "def string_in_string(s1, s2):\n",
    "    return s1 in s2\n",
    "\n",
    "string_in_string(\"Hello\", \"Hello, how are you?\")"
   ]
  },
  {
   "cell_type": "code",
   "execution_count": 97,
   "metadata": {},
   "outputs": [
    {
     "data": {
      "text/plain": [
       "True"
      ]
     },
     "execution_count": 97,
     "metadata": {},
     "output_type": "execute_result"
    }
   ],
   "source": [
    "# 73\n",
    "# write a python function to check if an object is present in a list\n",
    "\n",
    "def obj_in_list(o, l):\n",
    "    return o in l\n",
    "\n",
    "obj_in_list(5, [1,2,3,4,5])"
   ]
  },
  {
   "cell_type": "code",
   "execution_count": 2,
   "metadata": {},
   "outputs": [
    {
     "data": {
      "text/plain": [
       "[4, 3, 2, 1]"
      ]
     },
     "execution_count": 2,
     "metadata": {},
     "output_type": "execute_result"
    }
   ],
   "source": [
    "# 74\n",
    "# write a python function to print a given list in reverse order using reverse method\n",
    "\n",
    "def reverse_list(l):\n",
    "    l.reverse()\n",
    "    return l\n",
    "\n",
    "reverse_list([1,2,3,4])"
   ]
  },
  {
   "cell_type": "code",
   "execution_count": 4,
   "metadata": {},
   "outputs": [
    {
     "data": {
      "text/plain": [
       "'hellohowareyou'"
      ]
     },
     "execution_count": 4,
     "metadata": {},
     "output_type": "execute_result"
    }
   ],
   "source": [
    "# 75\n",
    "# write a python function to concatenate any number of given strings\n",
    "\n",
    "def concatenate_strings(*strings):\n",
    "    return ''.join(strings)\n",
    "\n",
    "concatenate_strings('hello', 'how', 'are', 'you')"
   ]
  },
  {
   "cell_type": "code",
   "execution_count": 6,
   "metadata": {},
   "outputs": [
    {
     "name": "stdout",
     "output_type": "stream",
     "text": [
      "True\n"
     ]
    }
   ],
   "source": [
    "# 78\n",
    "# write a python function to print if a given number is less than 100\n",
    "\n",
    "def check_nbr_less_than_100(n):\n",
    "    print(n < 100)\n",
    "\n",
    "check_nbr_less_than_100(80)"
   ]
  },
  {
   "cell_type": "code",
   "execution_count": 10,
   "metadata": {},
   "outputs": [
    {
     "name": "stdout",
     "output_type": "stream",
     "text": [
      "10\n"
     ]
    }
   ],
   "source": [
    "# 79\n",
    "# write a python program where one function calls another function to print a variable s that is initialized with 10 in calling function\n",
    "\n",
    "def called_func(a):\n",
    "    print(a)\n",
    "def calling_func(func):\n",
    "    s = 10\n",
    "    func(s)\n",
    "\n",
    "calling_func(called_func)"
   ]
  },
  {
   "cell_type": "code",
   "execution_count": 11,
   "metadata": {},
   "outputs": [
    {
     "name": "stdout",
     "output_type": "stream",
     "text": [
      "['h', 'e', 'l', 'l', 'o']\n"
     ]
    }
   ],
   "source": [
    "# 80\n",
    "# write a python function to take a string as input and print a list of all the characters\n",
    "\n",
    "def string_to_list(s):\n",
    "    print(list(s))\n",
    "\n",
    "string_to_list(\"hello\")"
   ]
  },
  {
   "cell_type": "code",
   "execution_count": 12,
   "metadata": {},
   "outputs": [
    {
     "name": "stdout",
     "output_type": "stream",
     "text": [
      "False\n"
     ]
    }
   ],
   "source": [
    "# 81\n",
    "# write a python program to print True or False if \"hello\" is present in \"hey, how are you?\"\n",
    "\n",
    "s1 = 'hello'\n",
    "s2 = 'hey, how are you?'\n",
    "\n",
    "print(s1 in s2)"
   ]
  },
  {
   "cell_type": "code",
   "execution_count": 13,
   "metadata": {},
   "outputs": [
    {
     "ename": "TypeError",
     "evalue": "Number cannot be added to string",
     "output_type": "error",
     "traceback": [
      "\u001b[1;31m---------------------------------------------------------------------------\u001b[0m",
      "\u001b[1;31mTypeError\u001b[0m                                 Traceback (most recent call last)",
      "\u001b[1;32m<ipython-input-13-6b39d7ca7611>\u001b[0m in \u001b[0;36m<module>\u001b[1;34m\u001b[0m\n\u001b[0;32m      7\u001b[0m \u001b[1;32mtry\u001b[0m\u001b[1;33m:\u001b[0m\u001b[1;33m\u001b[0m\u001b[1;33m\u001b[0m\u001b[0m\n\u001b[1;32m----> 8\u001b[1;33m     \u001b[0mprint\u001b[0m\u001b[1;33m(\u001b[0m\u001b[0mn\u001b[0m \u001b[1;33m+\u001b[0m \u001b[0ms\u001b[0m\u001b[1;33m)\u001b[0m\u001b[1;33m\u001b[0m\u001b[1;33m\u001b[0m\u001b[0m\n\u001b[0m\u001b[0;32m      9\u001b[0m \u001b[1;32mexcept\u001b[0m\u001b[1;33m:\u001b[0m\u001b[1;33m\u001b[0m\u001b[1;33m\u001b[0m\u001b[0m\n",
      "\u001b[1;31mTypeError\u001b[0m: unsupported operand type(s) for +: 'int' and 'str'",
      "\nDuring handling of the above exception, another exception occurred:\n",
      "\u001b[1;31mTypeError\u001b[0m                                 Traceback (most recent call last)",
      "\u001b[1;32m<ipython-input-13-6b39d7ca7611>\u001b[0m in \u001b[0;36m<module>\u001b[1;34m\u001b[0m\n\u001b[0;32m      8\u001b[0m     \u001b[0mprint\u001b[0m\u001b[1;33m(\u001b[0m\u001b[0mn\u001b[0m \u001b[1;33m+\u001b[0m \u001b[0ms\u001b[0m\u001b[1;33m)\u001b[0m\u001b[1;33m\u001b[0m\u001b[1;33m\u001b[0m\u001b[0m\n\u001b[0;32m      9\u001b[0m \u001b[1;32mexcept\u001b[0m\u001b[1;33m:\u001b[0m\u001b[1;33m\u001b[0m\u001b[1;33m\u001b[0m\u001b[0m\n\u001b[1;32m---> 10\u001b[1;33m     \u001b[1;32mraise\u001b[0m \u001b[0mTypeError\u001b[0m\u001b[1;33m(\u001b[0m\u001b[1;34m\"Number cannot be added to string\"\u001b[0m\u001b[1;33m)\u001b[0m\u001b[1;33m\u001b[0m\u001b[1;33m\u001b[0m\u001b[0m\n\u001b[0m",
      "\u001b[1;31mTypeError\u001b[0m: Number cannot be added to string"
     ]
    }
   ],
   "source": [
    "# 82\n",
    "# write a python program to print add a digit with a string and raise a type error\n",
    "\n",
    "n = 10\n",
    "s = 'hey'\n",
    "\n",
    "try:\n",
    "    print(n + s)\n",
    "except:\n",
    "    raise TypeError(\"Number cannot be added to string\")"
   ]
  },
  {
   "cell_type": "code",
   "execution_count": 14,
   "metadata": {},
   "outputs": [
    {
     "name": "stdout",
     "output_type": "stream",
     "text": [
      "82\n"
     ]
    }
   ],
   "source": [
    "# 83\n",
    "# write a python program to find the percentage of words in a sentence that are having vowels in it and print the percentage after rounding it. \n",
    "# use list comprehence and any method\n",
    "\n",
    "sent = \"Hi, I am XYZ. One day I would like buy an island with beautiful beach around it.\"\n",
    "vowels = ['a', 'e', 'i', 'o', 'u']\n",
    "\n",
    "words = sent.split()\n",
    "words_with_vowels = [w for w in words if any(v in w for v in vowels)]\n",
    "\n",
    "pct = len(words_with_vowels) * 100 / len(words)\n",
    "print(round(pct))"
   ]
  },
  {
   "cell_type": "code",
   "execution_count": 16,
   "metadata": {},
   "outputs": [
    {
     "name": "stdout",
     "output_type": "stream",
     "text": [
      "tesla\n"
     ]
    }
   ],
   "source": [
    "# 84\n",
    "# write a python function to take a string as input and print first 5 characters using slicing\n",
    "\n",
    "def slice_print_string(s):\n",
    "    print(s[:5])\n",
    "\n",
    "slice_print_string('teslaspacex')"
   ]
  },
  {
   "cell_type": "code",
   "execution_count": 18,
   "metadata": {},
   "outputs": [
    {
     "name": "stdout",
     "output_type": "stream",
     "text": [
      "dians\n"
     ]
    }
   ],
   "source": [
    "# 85\n",
    "# write a python function to print last five chacters from a given input string\n",
    "\n",
    "def print_last_five_chrs_string(s):\n",
    "    print(s[-5:])\n",
    "\n",
    "print_last_five_chrs_string('Indians')"
   ]
  },
  {
   "cell_type": "code",
   "execution_count": 23,
   "metadata": {},
   "outputs": [
    {
     "data": {
      "text/plain": [
       "['Epai', 'COURSE', 'is', 'AN', 'amazing', 'LEARNING', 'experience!!']"
      ]
     },
     "execution_count": 23,
     "metadata": {},
     "output_type": "execute_result"
    }
   ],
   "source": [
    "# 86\n",
    "# write a python function take a string and return that list of its words but with every alternate strings in upper case using list comprehenson\n",
    "\n",
    "def upper_alt_str_list(s):\n",
    "    words = s.split()\n",
    "    words = [w.upper() if i%2==1 else w for i, w in enumerate(words)]\n",
    "    return words\n",
    "\n",
    "upper_alt_str_list(\"Epai course is an amazing learning experience!!\")"
   ]
  },
  {
   "cell_type": "code",
   "execution_count": 24,
   "metadata": {},
   "outputs": [
    {
     "data": {
      "text/plain": [
       "11"
      ]
     },
     "execution_count": 24,
     "metadata": {},
     "output_type": "execute_result"
    }
   ],
   "source": [
    "# 87\n",
    "# write a python function to add two numbers\n",
    "\n",
    "def add_num(a, b):\n",
    "    return a + b\n",
    "\n",
    "add_num(5, 6)"
   ]
  },
  {
   "cell_type": "code",
   "execution_count": 25,
   "metadata": {},
   "outputs": [
    {
     "data": {
      "text/plain": [
       "6"
      ]
     },
     "execution_count": 25,
     "metadata": {},
     "output_type": "execute_result"
    }
   ],
   "source": [
    "# 88\n",
    "# write a python function to multiply two numbers\n",
    "\n",
    "def mul_nums(a, b):\n",
    "    return a*b\n",
    "\n",
    "mul_nums(2, 3)"
   ]
  },
  {
   "cell_type": "code",
   "execution_count": 26,
   "metadata": {},
   "outputs": [
    {
     "name": "stdout",
     "output_type": "stream",
     "text": [
      "hey\n",
      "hey\n",
      "hey\n",
      "hey\n",
      "hey\n",
      "\n"
     ]
    }
   ],
   "source": [
    "# 89\n",
    "# write a python function to take a string as input and print that 5 times followed by a new line\n",
    "\n",
    "def print_str(s):\n",
    "    print((s+'\\n')*5)\n",
    "\n",
    "print_str('hey')"
   ]
  },
  {
   "cell_type": "code",
   "execution_count": 27,
   "metadata": {},
   "outputs": [
    {
     "name": "stdout",
     "output_type": "stream",
     "text": [
      "6\n",
      "5\n",
      "4\n"
     ]
    }
   ],
   "source": [
    "# 90\n",
    "# write a python function print a random choice from a list [1,2,3,4,5,6] of numbers 3 times\n",
    "\n",
    "def rand_print_list(l):\n",
    "    import random\n",
    "    for i in range(3):\n",
    "        print(random.choice(l))\n",
    "\n",
    "rand_print_list([1,2,3,4,5,6])"
   ]
  },
  {
   "cell_type": "code",
   "execution_count": 28,
   "metadata": {},
   "outputs": [
    {
     "name": "stdout",
     "output_type": "stream",
     "text": [
      "o\n",
      "a\n",
      "a\n"
     ]
    }
   ],
   "source": [
    "# 91\n",
    "# write a python function to print a random choice of characters from a list of string \"how are you\"\n",
    "\n",
    "def rand_print_str(s):\n",
    "    l = list(s)\n",
    "    import random\n",
    "    for i in range(3):\n",
    "        print(random.choice(l))\n",
    "\n",
    "rand_print_str(\"how are you\")"
   ]
  },
  {
   "cell_type": "code",
   "execution_count": 29,
   "metadata": {},
   "outputs": [
    {
     "data": {
      "text/plain": [
       "2"
      ]
     },
     "execution_count": 29,
     "metadata": {},
     "output_type": "execute_result"
    }
   ],
   "source": [
    "# 92\n",
    "# write a function to divide a number assigned to variable a by another variable b and return the rounded result\n",
    "\n",
    "def divide_func(a, b):\n",
    "    return round(a/b)\n",
    "\n",
    "divide_func(10, 5)"
   ]
  },
  {
   "cell_type": "code",
   "execution_count": 31,
   "metadata": {},
   "outputs": [
    {
     "data": {
      "text/plain": [
       "[0, 0, 0, 4, 0, 0, 7]"
      ]
     },
     "execution_count": 31,
     "metadata": {},
     "output_type": "execute_result"
    }
   ],
   "source": [
    "# 93\n",
    "# write a function to take a list of numbers and multiply each element with a random choice between 0 and 1 and return the updated list\n",
    "\n",
    "def rand_mul_list(l):\n",
    "    import random\n",
    "    for i in range(len(l)):\n",
    "        l[i] = l[i] * random.choice([0,1])\n",
    "    return l\n",
    "\n",
    "rand_mul_list([1,2,3,4,5,6,7])"
   ]
  },
  {
   "cell_type": "code",
   "execution_count": 36,
   "metadata": {},
   "outputs": [
    {
     "name": "stdout",
     "output_type": "stream",
     "text": [
      "True\n"
     ]
    }
   ],
   "source": [
    "# 94\n",
    "# write a python function to print if any of the elements in a tuple is true\n",
    "\n",
    "def any_of_tuple(t):\n",
    "    if any(t):\n",
    "        print(True)\n",
    "    else:\n",
    "        print(False)\n",
    "        \n",
    "any_of_tuple((0, 4, False))"
   ]
  },
  {
   "cell_type": "code",
   "execution_count": 35,
   "metadata": {},
   "outputs": [
    {
     "name": "stdout",
     "output_type": "stream",
     "text": [
      "False\n"
     ]
    }
   ],
   "source": [
    "# 95\n",
    "# write a python function to print if all of the elements in a tuple are true\n",
    "\n",
    "def all_of_tuple(t):\n",
    "    if all(t):\n",
    "        print(True)\n",
    "    else:\n",
    "        print(False)\n",
    "        \n",
    "all_of_tuple((0, 4, False))"
   ]
  },
  {
   "cell_type": "code",
   "execution_count": 37,
   "metadata": {},
   "outputs": [
    {
     "name": "stdout",
     "output_type": "stream",
     "text": [
      "3\n"
     ]
    }
   ],
   "source": [
    "# 96\n",
    "# write a python function to print number of characters in a string\n",
    "\n",
    "def print_nbr_chrs_in_str(s):\n",
    "    print(len(s))\n",
    "\n",
    "print_nbr_chrs_in_str(\"hey\")"
   ]
  },
  {
   "cell_type": "code",
   "execution_count": 38,
   "metadata": {},
   "outputs": [
    {
     "name": "stdout",
     "output_type": "stream",
     "text": [
      "4\n"
     ]
    }
   ],
   "source": [
    "# 97\n",
    "# write a python function to print length of a set\n",
    "\n",
    "def print_lenght_of_set(s):\n",
    "    print(len(s))\n",
    "    \n",
    "print_lenght_of_set({1,3,4,5,5})"
   ]
  },
  {
   "cell_type": "code",
   "execution_count": 39,
   "metadata": {},
   "outputs": [
    {
     "name": "stdout",
     "output_type": "stream",
     "text": [
      "a\n",
      "b\n"
     ]
    }
   ],
   "source": [
    "# 98\n",
    "# write a python function to print all the keys of dictionary using for loop\n",
    "\n",
    "def print_keys_dict(d):\n",
    "    for k in d:\n",
    "        print(k)\n",
    "\n",
    "print_keys_dict({'a':2, 'b':3})"
   ]
  },
  {
   "cell_type": "code",
   "execution_count": 40,
   "metadata": {},
   "outputs": [
    {
     "data": {
      "text/plain": [
       "{0: 'how', 1: 'are', 2: 'you', 3: 'today'}"
      ]
     },
     "execution_count": 40,
     "metadata": {},
     "output_type": "execute_result"
    }
   ],
   "source": [
    "# 99\n",
    "# write a python function to split a sentence and create a dictionary with their indexes as keys and words as values using enumerate\n",
    "\n",
    "def sent_to_dict(s):\n",
    "    l = s.split()\n",
    "    d = {k:v for k, v in enumerate(l)}\n",
    "    return d\n",
    "\n",
    "sent_to_dict(\"how are you today\")"
   ]
  },
  {
   "cell_type": "code",
   "execution_count": 41,
   "metadata": {},
   "outputs": [
    {
     "name": "stdout",
     "output_type": "stream",
     "text": [
      "hi\n"
     ]
    }
   ],
   "source": [
    "# 100\n",
    "# write a python function to take two strings and prints the greater string\n",
    "\n",
    "def print_greater_string(s1, s2):\n",
    "    if s1 > s2:\n",
    "        print(s1)\n",
    "    else:\n",
    "        print(s2)\n",
    "\n",
    "print_greater_string('hello', 'hi')"
   ]
  },
  {
   "cell_type": "code",
   "execution_count": null,
   "metadata": {},
   "outputs": [],
   "source": []
  }
 ],
 "metadata": {
  "kernelspec": {
   "display_name": "Python 3",
   "language": "python",
   "name": "python3"
  },
  "language_info": {
   "codemirror_mode": {
    "name": "ipython",
    "version": 3
   },
   "file_extension": ".py",
   "mimetype": "text/x-python",
   "name": "python",
   "nbconvert_exporter": "python",
   "pygments_lexer": "ipython3",
   "version": "3.7.6"
  }
 },
 "nbformat": 4,
 "nbformat_minor": 4
}
