{
 "cells": [
  {
   "cell_type": "code",
   "execution_count": 1,
   "metadata": {},
   "outputs": [],
   "source": [
    "import os\n",
    "os.chdir(r'C:\\Users\\XXXXXXXXXXXXXXXXXXXXXXXXXXXX\\S13')"
   ]
  },
  {
   "cell_type": "markdown",
   "metadata": {},
   "source": [
    "**Object 1 with Polygon Class**"
   ]
  },
  {
   "cell_type": "code",
   "execution_count": 3,
   "metadata": {},
   "outputs": [],
   "source": [
    "from polygon import Polygon # Class for creation of polygons"
   ]
  },
  {
   "cell_type": "code",
   "execution_count": 4,
   "metadata": {},
   "outputs": [
    {
     "data": {
      "text/plain": [
       "Polygon with \n",
       "10 edges,                 \n",
       "8 circumradius,                 \n",
       "144.0 interior angle,                 \n",
       "4.944271909999158 edge length,                 \n",
       "7.608452130361228 apothem,                 \n",
       "38.04226065180614 area,                 \n",
       "49.442719099991585 perimeter"
      ]
     },
     "execution_count": 4,
     "metadata": {},
     "output_type": "execute_result"
    }
   ],
   "source": [
    "pc1 = Polygon(10, 8) # Creating polygon with 10 edges and circumradius as 8\n",
    "pc1 # shows how the instance is represented as defined under __repr__"
   ]
  },
  {
   "cell_type": "code",
   "execution_count": 13,
   "metadata": {},
   "outputs": [
    {
     "name": "stdout",
     "output_type": "stream",
     "text": [
      "Attribute values of pc1\n",
      "Number of edges:  10\n",
      "Number of vertices:  10\n",
      "circumradius:  8\n",
      "interior angle:  144.0\n",
      "length of edge:  4.944271909999158\n",
      "apothem:  7.608452130361228\n",
      "area:  38.04226065180614\n",
      "perimeter:  49.442719099991585\n"
     ]
    }
   ],
   "source": [
    "print(\"Attribute values of pc1\")\n",
    "print(\"Number of edges: \", pc1.nbr_edges)\n",
    "print(\"Number of vertices: \", pc1.nbr_vertices)\n",
    "print(\"circumradius: \", pc1.circumradius)\n",
    "print(\"interior angle: \", pc1.interior_angle)\n",
    "print(\"length of edge: \", pc1.edge_length)\n",
    "print(\"apothem: \", pc1.apothem)\n",
    "print(\"area: \", pc1.area)\n",
    "print(\"perimeter: \", pc1.perimeter)"
   ]
  },
  {
   "cell_type": "code",
   "execution_count": 5,
   "metadata": {},
   "outputs": [
    {
     "data": {
      "text/plain": [
       "Polygon with \n",
       "10 edges,                 \n",
       "8 circumradius,                 \n",
       "144.0 interior angle,                 \n",
       "4.944271909999158 edge length,                 \n",
       "7.608452130361228 apothem,                 \n",
       "38.04226065180614 area,                 \n",
       "49.442719099991585 perimeter"
      ]
     },
     "execution_count": 5,
     "metadata": {},
     "output_type": "execute_result"
    }
   ],
   "source": [
    "pc2 = Polygon(10, 8) # second polygon pc2 with same dimensions as pc1\n",
    "pc2 # returns all the attributes of pc2"
   ]
  },
  {
   "cell_type": "code",
   "execution_count": 6,
   "metadata": {},
   "outputs": [
    {
     "data": {
      "text/plain": [
       "True"
      ]
     },
     "execution_count": 6,
     "metadata": {},
     "output_type": "execute_result"
    }
   ],
   "source": [
    "pc1 == pc2 # Comparison to check if two instances are equal as implemented under __eq__."
   ]
  },
  {
   "cell_type": "code",
   "execution_count": 7,
   "metadata": {},
   "outputs": [
    {
     "data": {
      "text/plain": [
       "Polygon with \n",
       "12 edges,                 \n",
       "8 circumradius,                 \n",
       "150.0 interior angle,                 \n",
       "4.141104721640332 edge length,                 \n",
       "7.7274066103125465 apothem,                 \n",
       "46.36443966187528 area,                 \n",
       "49.69325665968398 perimeter"
      ]
     },
     "execution_count": 7,
     "metadata": {},
     "output_type": "execute_result"
    }
   ],
   "source": [
    "pc3 = Polygon(12, 8) # another instance of polygon\n",
    "pc3"
   ]
  },
  {
   "cell_type": "code",
   "execution_count": 8,
   "metadata": {},
   "outputs": [
    {
     "data": {
      "text/plain": [
       "False"
      ]
     },
     "execution_count": 8,
     "metadata": {},
     "output_type": "execute_result"
    }
   ],
   "source": [
    "pc1 == pc3 # this time since the dimensions of number of edges and circumradius did not match, hence the result is false"
   ]
  },
  {
   "cell_type": "code",
   "execution_count": 9,
   "metadata": {},
   "outputs": [
    {
     "data": {
      "text/plain": [
       "True"
      ]
     },
     "execution_count": 9,
     "metadata": {},
     "output_type": "execute_result"
    }
   ],
   "source": [
    "pc3 > pc1 # greater than comparison based on the number of edges. Since pc3 has 12 edges and pc1 10 edges, pc3 is greater than pc1"
   ]
  },
  {
   "cell_type": "code",
   "execution_count": 10,
   "metadata": {},
   "outputs": [
    {
     "data": {
      "text/plain": [
       "False"
      ]
     },
     "execution_count": 10,
     "metadata": {},
     "output_type": "execute_result"
    }
   ],
   "source": [
    "pc2 > pc1 # pc2 and pc1 are having same number of edges, hence the comparison result is false"
   ]
  },
  {
   "cell_type": "markdown",
   "metadata": {},
   "source": [
    "**Objective 2 with custom sequence of Polygons**"
   ]
  },
  {
   "cell_type": "code",
   "execution_count": 2,
   "metadata": {},
   "outputs": [],
   "source": [
    "from polygonsequence import PolySeq # Sequence of polygons"
   ]
  },
  {
   "cell_type": "code",
   "execution_count": 14,
   "metadata": {},
   "outputs": [
    {
     "data": {
      "text/plain": [
       "(Polygon with \n",
       "3 edges,                 \n",
       "8 circumradius,                 \n",
       "60.0 interior angle,                 \n",
       "13.856406460551018 edge length,                 \n",
       "4.000000000000001 apothem,                 \n",
       "6.000000000000002 area,                 \n",
       "41.569219381653056 perimeter, Polygon with \n",
       "4 edges,                 \n",
       "8 circumradius,                 \n",
       "90.0 interior angle,                 \n",
       "11.313708498984761 edge length,                 \n",
       "5.656854249492381 apothem,                 \n",
       "11.313708498984761 area,                 \n",
       "45.254833995939045 perimeter, Polygon with \n",
       "5 edges,                 \n",
       "8 circumradius,                 \n",
       "108.0 interior angle,                 \n",
       "9.40456403667957 edge length,                 \n",
       "6.47213595499958 apothem,                 \n",
       "16.18033988749895 area,                 \n",
       "47.022820183397855 perimeter, Polygon with \n",
       "6 edges,                 \n",
       "8 circumradius,                 \n",
       "120.0 interior angle,                 \n",
       "7.999999999999999 edge length,                 \n",
       "6.92820323027551 apothem,                 \n",
       "20.784609690826528 area,                 \n",
       "47.99999999999999 perimeter, Polygon with \n",
       "7 edges,                 \n",
       "8 circumradius,                 \n",
       "128.57142857142858 interior angle,                 \n",
       "6.94213982588093 edge length,                 \n",
       "7.207750943219353 apothem,                 \n",
       "25.227128301267737 area,                 \n",
       "48.59497878116651 perimeter, Polygon with \n",
       "8 edges,                 \n",
       "8 circumradius,                 \n",
       "135.0 interior angle,                 \n",
       "6.1229349178414365 edge length,                 \n",
       "7.391036260090294 apothem,                 \n",
       "29.564145040361176 area,                 \n",
       "48.98347934273149 perimeter, Polygon with \n",
       "9 edges,                 \n",
       "8 circumradius,                 \n",
       "140.0 interior angle,                 \n",
       "5.472322293210699 edge length,                 \n",
       "7.517540966287267 apothem,                 \n",
       "33.828934348292705 area,                 \n",
       "49.2509006388963 perimeter, Polygon with \n",
       "10 edges,                 \n",
       "8 circumradius,                 \n",
       "144.0 interior angle,                 \n",
       "4.944271909999158 edge length,                 \n",
       "7.608452130361228 apothem,                 \n",
       "38.04226065180614 area,                 \n",
       "49.442719099991585 perimeter)"
      ]
     },
     "execution_count": 14,
     "metadata": {},
     "output_type": "execute_result"
    }
   ],
   "source": [
    "ps = PolySeq(10, 8) # Creates a sequence of polygons with maximum of edges as 10 and with all with same circumradius\n",
    "ps # For representation, the sequence instance returns a tuple of all the polygones created"
   ]
  },
  {
   "cell_type": "code",
   "execution_count": 15,
   "metadata": {},
   "outputs": [
    {
     "data": {
      "text/plain": [
       "8"
      ]
     },
     "execution_count": 15,
     "metadata": {},
     "output_type": "execute_result"
    }
   ],
   "source": [
    "len(ps) # returns the length of the sequence"
   ]
  },
  {
   "cell_type": "code",
   "execution_count": 16,
   "metadata": {},
   "outputs": [
    {
     "data": {
      "text/plain": [
       "Polygon with \n",
       "3 edges,                 \n",
       "8 circumradius,                 \n",
       "60.0 interior angle,                 \n",
       "13.856406460551018 edge length,                 \n",
       "4.000000000000001 apothem,                 \n",
       "6.000000000000002 area,                 \n",
       "41.569219381653056 perimeter"
      ]
     },
     "execution_count": 16,
     "metadata": {},
     "output_type": "execute_result"
    }
   ],
   "source": [
    "ps[0] # returns first polygon details from the sequence"
   ]
  },
  {
   "cell_type": "code",
   "execution_count": 17,
   "metadata": {},
   "outputs": [
    {
     "data": {
      "text/plain": [
       "Polygon with \n",
       "10 edges,                 \n",
       "8 circumradius,                 \n",
       "144.0 interior angle,                 \n",
       "4.944271909999158 edge length,                 \n",
       "7.608452130361228 apothem,                 \n",
       "38.04226065180614 area,                 \n",
       "49.442719099991585 perimeter"
      ]
     },
     "execution_count": 17,
     "metadata": {},
     "output_type": "execute_result"
    }
   ],
   "source": [
    "ps[7] # returns 7th element from the sequence"
   ]
  },
  {
   "cell_type": "code",
   "execution_count": 18,
   "metadata": {},
   "outputs": [
    {
     "data": {
      "text/plain": [
       "Polygon with \n",
       "9 edges,                 \n",
       "8 circumradius,                 \n",
       "140.0 interior angle,                 \n",
       "5.472322293210699 edge length,                 \n",
       "7.517540966287267 apothem,                 \n",
       "33.828934348292705 area,                 \n",
       "49.2509006388963 perimeter"
      ]
     },
     "execution_count": 18,
     "metadata": {},
     "output_type": "execute_result"
    }
   ],
   "source": [
    "ps[-2] # returns second last element of the sequence"
   ]
  },
  {
   "cell_type": "code",
   "execution_count": 19,
   "metadata": {},
   "outputs": [
    {
     "data": {
      "text/plain": [
       "[Polygon with \n",
       " 5 edges,                 \n",
       " 8 circumradius,                 \n",
       " 108.0 interior angle,                 \n",
       " 9.40456403667957 edge length,                 \n",
       " 6.47213595499958 apothem,                 \n",
       " 16.18033988749895 area,                 \n",
       " 47.022820183397855 perimeter,\n",
       " Polygon with \n",
       " 6 edges,                 \n",
       " 8 circumradius,                 \n",
       " 120.0 interior angle,                 \n",
       " 7.999999999999999 edge length,                 \n",
       " 6.92820323027551 apothem,                 \n",
       " 20.784609690826528 area,                 \n",
       " 47.99999999999999 perimeter,\n",
       " Polygon with \n",
       " 7 edges,                 \n",
       " 8 circumradius,                 \n",
       " 128.57142857142858 interior angle,                 \n",
       " 6.94213982588093 edge length,                 \n",
       " 7.207750943219353 apothem,                 \n",
       " 25.227128301267737 area,                 \n",
       " 48.59497878116651 perimeter]"
      ]
     },
     "execution_count": 19,
     "metadata": {},
     "output_type": "execute_result"
    }
   ],
   "source": [
    "ps[2:5] # slicing on the custom sequence of polygons"
   ]
  },
  {
   "cell_type": "code",
   "execution_count": 20,
   "metadata": {},
   "outputs": [
    {
     "data": {
      "text/plain": [
       "[Polygon with \n",
       " 10 edges,                 \n",
       " 8 circumradius,                 \n",
       " 144.0 interior angle,                 \n",
       " 4.944271909999158 edge length,                 \n",
       " 7.608452130361228 apothem,                 \n",
       " 38.04226065180614 area,                 \n",
       " 49.442719099991585 perimeter,\n",
       " Polygon with \n",
       " 9 edges,                 \n",
       " 8 circumradius,                 \n",
       " 140.0 interior angle,                 \n",
       " 5.472322293210699 edge length,                 \n",
       " 7.517540966287267 apothem,                 \n",
       " 33.828934348292705 area,                 \n",
       " 49.2509006388963 perimeter,\n",
       " Polygon with \n",
       " 8 edges,                 \n",
       " 8 circumradius,                 \n",
       " 135.0 interior angle,                 \n",
       " 6.1229349178414365 edge length,                 \n",
       " 7.391036260090294 apothem,                 \n",
       " 29.564145040361176 area,                 \n",
       " 48.98347934273149 perimeter,\n",
       " Polygon with \n",
       " 7 edges,                 \n",
       " 8 circumradius,                 \n",
       " 128.57142857142858 interior angle,                 \n",
       " 6.94213982588093 edge length,                 \n",
       " 7.207750943219353 apothem,                 \n",
       " 25.227128301267737 area,                 \n",
       " 48.59497878116651 perimeter,\n",
       " Polygon with \n",
       " 6 edges,                 \n",
       " 8 circumradius,                 \n",
       " 120.0 interior angle,                 \n",
       " 7.999999999999999 edge length,                 \n",
       " 6.92820323027551 apothem,                 \n",
       " 20.784609690826528 area,                 \n",
       " 47.99999999999999 perimeter,\n",
       " Polygon with \n",
       " 5 edges,                 \n",
       " 8 circumradius,                 \n",
       " 108.0 interior angle,                 \n",
       " 9.40456403667957 edge length,                 \n",
       " 6.47213595499958 apothem,                 \n",
       " 16.18033988749895 area,                 \n",
       " 47.022820183397855 perimeter,\n",
       " Polygon with \n",
       " 4 edges,                 \n",
       " 8 circumradius,                 \n",
       " 90.0 interior angle,                 \n",
       " 11.313708498984761 edge length,                 \n",
       " 5.656854249492381 apothem,                 \n",
       " 11.313708498984761 area,                 \n",
       " 45.254833995939045 perimeter,\n",
       " Polygon with \n",
       " 3 edges,                 \n",
       " 8 circumradius,                 \n",
       " 60.0 interior angle,                 \n",
       " 13.856406460551018 edge length,                 \n",
       " 4.000000000000001 apothem,                 \n",
       " 6.000000000000002 area,                 \n",
       " 41.569219381653056 perimeter]"
      ]
     },
     "execution_count": 20,
     "metadata": {},
     "output_type": "execute_result"
    }
   ],
   "source": [
    "ps[::-1] # getting the sequence in reverse order"
   ]
  },
  {
   "cell_type": "code",
   "execution_count": 21,
   "metadata": {},
   "outputs": [
    {
     "data": {
      "text/plain": [
       "Polygon with \n",
       "10 edges,                 \n",
       "8 circumradius,                 \n",
       "144.0 interior angle,                 \n",
       "4.944271909999158 edge length,                 \n",
       "7.608452130361228 apothem,                 \n",
       "38.04226065180614 area,                 \n",
       "49.442719099991585 perimeter"
      ]
     },
     "execution_count": 21,
     "metadata": {},
     "output_type": "execute_result"
    }
   ],
   "source": [
    "ps.max_efficiency_polygon # finding the polygon with maximum efficiency from the sequence"
   ]
  },
  {
   "cell_type": "code",
   "execution_count": 3,
   "metadata": {},
   "outputs": [],
   "source": [
    "ps2 = PolySeq(25, 10) # sequence with max number of edges = 25"
   ]
  },
  {
   "cell_type": "code",
   "execution_count": 4,
   "metadata": {},
   "outputs": [
    {
     "data": {
      "text/plain": [
       "Polygon with \n",
       "25 edges,                 \n",
       "10 circumradius,                 \n",
       "165.6 interior angle,                 \n",
       "2.506664671286085 edge length,                 \n",
       "9.921147013144779 apothem,                 \n",
       "124.01433766430974 area,                 \n",
       "62.66661678215213 perimeter"
      ]
     },
     "execution_count": 4,
     "metadata": {},
     "output_type": "execute_result"
    }
   ],
   "source": [
    "ps2.max_efficiency_polygon # showing the polygon with max efficiency from the sequence"
   ]
  }
 ],
 "metadata": {
  "kernelspec": {
   "display_name": "Python 3",
   "language": "python",
   "name": "python3"
  },
  "language_info": {
   "codemirror_mode": {
    "name": "ipython",
    "version": 3
   },
   "file_extension": ".py",
   "mimetype": "text/x-python",
   "name": "python",
   "nbconvert_exporter": "python",
   "pygments_lexer": "ipython3",
   "version": "3.7.7"
  },
  "toc": {
   "base_numbering": 1,
   "nav_menu": {},
   "number_sections": true,
   "sideBar": true,
   "skip_h1_title": false,
   "title_cell": "Table of Contents",
   "title_sidebar": "Contents",
   "toc_cell": false,
   "toc_position": {},
   "toc_section_display": true,
   "toc_window_display": false
  },
  "varInspector": {
   "cols": {
    "lenName": 16,
    "lenType": 16,
    "lenVar": 40
   },
   "kernels_config": {
    "python": {
     "delete_cmd_postfix": "",
     "delete_cmd_prefix": "del ",
     "library": "var_list.py",
     "varRefreshCmd": "print(var_dic_list())"
    },
    "r": {
     "delete_cmd_postfix": ") ",
     "delete_cmd_prefix": "rm(",
     "library": "var_list.r",
     "varRefreshCmd": "cat(var_dic_list()) "
    }
   },
   "types_to_exclude": [
    "module",
    "function",
    "builtin_function_or_method",
    "instance",
    "_Feature"
   ],
   "window_display": false
  }
 },
 "nbformat": 4,
 "nbformat_minor": 4
}
